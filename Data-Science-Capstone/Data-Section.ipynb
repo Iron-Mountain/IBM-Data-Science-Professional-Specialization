{
 "metadata": {
  "language_info": {
   "codemirror_mode": {
    "name": "ipython",
    "version": 3
   },
   "file_extension": ".py",
   "mimetype": "text/x-python",
   "name": "python",
   "nbconvert_exporter": "python",
   "pygments_lexer": "ipython3",
   "version": "3.7.1-final"
  },
  "orig_nbformat": 2,
  "kernelspec": {
   "name": "Python 3.7.1 64-bit ('base': conda)",
   "display_name": "Python 3.7.1 64-bit ('base': conda)",
   "metadata": {
    "interpreter": {
     "hash": "540b8b5107148be1bb809aadf5ddc82ec8ca277383f3dc745d8ed3d4f9450841"
    }
   }
  }
 },
 "nbformat": 4,
 "nbformat_minor": 2,
 "cells": [
  {
   "cell_type": "markdown",
   "metadata": {},
   "source": [
    "## Data For Report\n",
    "The data that we have chosen to zero in on are going to be those that would directly impact the severity of a collision. The lat/long of a collision has no correlation to the severity of the accident, so, for the purposes of our analysis, we can drop it as part of the model. As a part of the preparation, we need to sift through the data in order to see what aspects are truly relevant.  \n",
    "\n",
    "We will create a correlation matrix using all of the data that we have, to see if there is a baseline of correlation from one variable to the next. The goal will be to first identify which items have high correlation to severity. Then, the next aspect is to see if there is redundant data. We don't need two independent variables that are highly correlated to both be part of the calculation for severity, since it will bias the model.  \n",
    "\n",
    "I already notice that with my data description, I am focusing too much on the cleaning aspect. Invariably, the cleaning is directly tied to the understanding of the data therein, so I will continue to conduct any and all cleaning in this file, and will draw conclusions about which data I will retain and which data I will drop. The information will be contained on the top of this document, here, and will be contained below, at the end of the cleaning process. The final step will include outputting the cleaned data as a csv for further use in a different file.  \n",
    "\n",
    "I will note my logic for dropping columns if I feel I need further justification. Given that 'SEVERITYDESC' has 100% correlation to 'SEVERITYCODE', I will drop this column, since it is a perfect, and hindsight based predictor of severity, and removes any predictability power from the model entirely."
   ]
  },
  {
   "cell_type": "code",
   "execution_count": 31,
   "metadata": {},
   "outputs": [],
   "source": [
    "import pandas as pd\n",
    "import numpy as np\n",
    "\n",
    "collision_data = pd.read_csv(\"Data-Collisions.csv\")"
   ]
  },
  {
   "cell_type": "code",
   "execution_count": 32,
   "metadata": {},
   "outputs": [
    {
     "output_type": "execute_result",
     "data": {
      "text/plain": [
       "        SEVERITYCODE              X              Y       OBJECTID  \\\n",
       "count  194673.000000  189339.000000  189339.000000  194673.000000   \n",
       "mean        1.298901    -122.330518      47.619543  108479.364930   \n",
       "std         0.457778       0.029976       0.056157   62649.722558   \n",
       "min         1.000000    -122.419091      47.495573       1.000000   \n",
       "25%         1.000000    -122.348673      47.575956   54267.000000   \n",
       "50%         1.000000    -122.330224      47.615369  106912.000000   \n",
       "75%         2.000000    -122.311937      47.663664  162272.000000   \n",
       "max         2.000000    -122.238949      47.734142  219547.000000   \n",
       "\n",
       "              INCKEY      COLDETKEY         INTKEY  SEVERITYCODE.1  \\\n",
       "count  194673.000000  194673.000000   65070.000000   194673.000000   \n",
       "mean   141091.456350  141298.811381   37558.450576        1.298901   \n",
       "std     86634.402737   86986.542110   51745.990273        0.457778   \n",
       "min      1001.000000    1001.000000   23807.000000        1.000000   \n",
       "25%     70383.000000   70383.000000   28667.000000        1.000000   \n",
       "50%    123363.000000  123363.000000   29973.000000        1.000000   \n",
       "75%    203319.000000  203459.000000   33973.000000        2.000000   \n",
       "max    331454.000000  332954.000000  757580.000000        2.000000   \n",
       "\n",
       "         PERSONCOUNT       PEDCOUNT    PEDCYLCOUNT       VEHCOUNT  \\\n",
       "count  194673.000000  194673.000000  194673.000000  194673.000000   \n",
       "mean        2.444427       0.037139       0.028391       1.920780   \n",
       "std         1.345929       0.198150       0.167413       0.631047   \n",
       "min         0.000000       0.000000       0.000000       0.000000   \n",
       "25%         2.000000       0.000000       0.000000       2.000000   \n",
       "50%         2.000000       0.000000       0.000000       2.000000   \n",
       "75%         3.000000       0.000000       0.000000       2.000000   \n",
       "max        81.000000       6.000000       2.000000      12.000000   \n",
       "\n",
       "        SDOT_COLCODE    SDOTCOLNUM     SEGLANEKEY  CROSSWALKKEY  \n",
       "count  194673.000000  1.149360e+05  194673.000000  1.946730e+05  \n",
       "mean       13.867768  7.972521e+06     269.401114  9.782452e+03  \n",
       "std         6.868755  2.553533e+06    3315.776055  7.226926e+04  \n",
       "min         0.000000  1.007024e+06       0.000000  0.000000e+00  \n",
       "25%        11.000000  6.040015e+06       0.000000  0.000000e+00  \n",
       "50%        13.000000  8.023022e+06       0.000000  0.000000e+00  \n",
       "75%        14.000000  1.015501e+07       0.000000  0.000000e+00  \n",
       "max        69.000000  1.307202e+07  525241.000000  5.239700e+06  "
      ],
      "text/html": "<div>\n<style scoped>\n    .dataframe tbody tr th:only-of-type {\n        vertical-align: middle;\n    }\n\n    .dataframe tbody tr th {\n        vertical-align: top;\n    }\n\n    .dataframe thead th {\n        text-align: right;\n    }\n</style>\n<table border=\"1\" class=\"dataframe\">\n  <thead>\n    <tr style=\"text-align: right;\">\n      <th></th>\n      <th>SEVERITYCODE</th>\n      <th>X</th>\n      <th>Y</th>\n      <th>OBJECTID</th>\n      <th>INCKEY</th>\n      <th>COLDETKEY</th>\n      <th>INTKEY</th>\n      <th>SEVERITYCODE.1</th>\n      <th>PERSONCOUNT</th>\n      <th>PEDCOUNT</th>\n      <th>PEDCYLCOUNT</th>\n      <th>VEHCOUNT</th>\n      <th>SDOT_COLCODE</th>\n      <th>SDOTCOLNUM</th>\n      <th>SEGLANEKEY</th>\n      <th>CROSSWALKKEY</th>\n    </tr>\n  </thead>\n  <tbody>\n    <tr>\n      <td>count</td>\n      <td>194673.000000</td>\n      <td>189339.000000</td>\n      <td>189339.000000</td>\n      <td>194673.000000</td>\n      <td>194673.000000</td>\n      <td>194673.000000</td>\n      <td>65070.000000</td>\n      <td>194673.000000</td>\n      <td>194673.000000</td>\n      <td>194673.000000</td>\n      <td>194673.000000</td>\n      <td>194673.000000</td>\n      <td>194673.000000</td>\n      <td>1.149360e+05</td>\n      <td>194673.000000</td>\n      <td>1.946730e+05</td>\n    </tr>\n    <tr>\n      <td>mean</td>\n      <td>1.298901</td>\n      <td>-122.330518</td>\n      <td>47.619543</td>\n      <td>108479.364930</td>\n      <td>141091.456350</td>\n      <td>141298.811381</td>\n      <td>37558.450576</td>\n      <td>1.298901</td>\n      <td>2.444427</td>\n      <td>0.037139</td>\n      <td>0.028391</td>\n      <td>1.920780</td>\n      <td>13.867768</td>\n      <td>7.972521e+06</td>\n      <td>269.401114</td>\n      <td>9.782452e+03</td>\n    </tr>\n    <tr>\n      <td>std</td>\n      <td>0.457778</td>\n      <td>0.029976</td>\n      <td>0.056157</td>\n      <td>62649.722558</td>\n      <td>86634.402737</td>\n      <td>86986.542110</td>\n      <td>51745.990273</td>\n      <td>0.457778</td>\n      <td>1.345929</td>\n      <td>0.198150</td>\n      <td>0.167413</td>\n      <td>0.631047</td>\n      <td>6.868755</td>\n      <td>2.553533e+06</td>\n      <td>3315.776055</td>\n      <td>7.226926e+04</td>\n    </tr>\n    <tr>\n      <td>min</td>\n      <td>1.000000</td>\n      <td>-122.419091</td>\n      <td>47.495573</td>\n      <td>1.000000</td>\n      <td>1001.000000</td>\n      <td>1001.000000</td>\n      <td>23807.000000</td>\n      <td>1.000000</td>\n      <td>0.000000</td>\n      <td>0.000000</td>\n      <td>0.000000</td>\n      <td>0.000000</td>\n      <td>0.000000</td>\n      <td>1.007024e+06</td>\n      <td>0.000000</td>\n      <td>0.000000e+00</td>\n    </tr>\n    <tr>\n      <td>25%</td>\n      <td>1.000000</td>\n      <td>-122.348673</td>\n      <td>47.575956</td>\n      <td>54267.000000</td>\n      <td>70383.000000</td>\n      <td>70383.000000</td>\n      <td>28667.000000</td>\n      <td>1.000000</td>\n      <td>2.000000</td>\n      <td>0.000000</td>\n      <td>0.000000</td>\n      <td>2.000000</td>\n      <td>11.000000</td>\n      <td>6.040015e+06</td>\n      <td>0.000000</td>\n      <td>0.000000e+00</td>\n    </tr>\n    <tr>\n      <td>50%</td>\n      <td>1.000000</td>\n      <td>-122.330224</td>\n      <td>47.615369</td>\n      <td>106912.000000</td>\n      <td>123363.000000</td>\n      <td>123363.000000</td>\n      <td>29973.000000</td>\n      <td>1.000000</td>\n      <td>2.000000</td>\n      <td>0.000000</td>\n      <td>0.000000</td>\n      <td>2.000000</td>\n      <td>13.000000</td>\n      <td>8.023022e+06</td>\n      <td>0.000000</td>\n      <td>0.000000e+00</td>\n    </tr>\n    <tr>\n      <td>75%</td>\n      <td>2.000000</td>\n      <td>-122.311937</td>\n      <td>47.663664</td>\n      <td>162272.000000</td>\n      <td>203319.000000</td>\n      <td>203459.000000</td>\n      <td>33973.000000</td>\n      <td>2.000000</td>\n      <td>3.000000</td>\n      <td>0.000000</td>\n      <td>0.000000</td>\n      <td>2.000000</td>\n      <td>14.000000</td>\n      <td>1.015501e+07</td>\n      <td>0.000000</td>\n      <td>0.000000e+00</td>\n    </tr>\n    <tr>\n      <td>max</td>\n      <td>2.000000</td>\n      <td>-122.238949</td>\n      <td>47.734142</td>\n      <td>219547.000000</td>\n      <td>331454.000000</td>\n      <td>332954.000000</td>\n      <td>757580.000000</td>\n      <td>2.000000</td>\n      <td>81.000000</td>\n      <td>6.000000</td>\n      <td>2.000000</td>\n      <td>12.000000</td>\n      <td>69.000000</td>\n      <td>1.307202e+07</td>\n      <td>525241.000000</td>\n      <td>5.239700e+06</td>\n    </tr>\n  </tbody>\n</table>\n</div>"
     },
     "metadata": {},
     "execution_count": 32
    }
   ],
   "source": [
    "collision_data.describe()"
   ]
  },
  {
   "cell_type": "code",
   "execution_count": 33,
   "metadata": {},
   "outputs": [
    {
     "output_type": "execute_result",
     "data": {
      "text/plain": [
       "   SEVERITYCODE           X          Y  OBJECTID  INCKEY  COLDETKEY REPORTNO  \\\n",
       "0             2 -122.323148  47.703140         1    1307       1307  3502005   \n",
       "1             1 -122.347294  47.647172         2   52200      52200  2607959   \n",
       "2             1 -122.334540  47.607871         3   26700      26700  1482393   \n",
       "3             1 -122.334803  47.604803         4    1144       1144  3503937   \n",
       "4             2 -122.306426  47.545739         5   17700      17700  1807429   \n",
       "5             1 -122.387598  47.690575         6  320840     322340  E919477   \n",
       "6             1 -122.338485  47.618534         7   83300      83300  3282542   \n",
       "7             2 -122.320780  47.614076         9  330897     332397  EA30304   \n",
       "8             1 -122.335930  47.611904        10   63400      63400  2071243   \n",
       "9             2 -122.384700  47.528475        12   58600      58600  2072105   \n",
       "\n",
       "    STATUS      ADDRTYPE   INTKEY  ... ROADCOND                LIGHTCOND  \\\n",
       "0  Matched  Intersection  37475.0  ...      Wet                 Daylight   \n",
       "1  Matched         Block      NaN  ...      Wet  Dark - Street Lights On   \n",
       "2  Matched         Block      NaN  ...      Dry                 Daylight   \n",
       "3  Matched         Block      NaN  ...      Dry                 Daylight   \n",
       "4  Matched  Intersection  34387.0  ...      Wet                 Daylight   \n",
       "5  Matched  Intersection  36974.0  ...      Dry                 Daylight   \n",
       "6  Matched  Intersection  29510.0  ...      Wet                 Daylight   \n",
       "7  Matched  Intersection  29745.0  ...      Dry                 Daylight   \n",
       "8  Matched         Block      NaN  ...      Dry                 Daylight   \n",
       "9  Matched  Intersection  34679.0  ...      Dry                 Daylight   \n",
       "\n",
       "  PEDROWNOTGRNT  SDOTCOLNUM SPEEDING ST_COLCODE  \\\n",
       "0           NaN         NaN      NaN         10   \n",
       "1           NaN   6354039.0      NaN         11   \n",
       "2           NaN   4323031.0      NaN         32   \n",
       "3           NaN         NaN      NaN         23   \n",
       "4           NaN   4028032.0      NaN         10   \n",
       "5           NaN         NaN      NaN         10   \n",
       "6           NaN   8344002.0      NaN         10   \n",
       "7           NaN         NaN      NaN          5   \n",
       "8           NaN   6166014.0      NaN         32   \n",
       "9           NaN   6079001.0      NaN         10   \n",
       "\n",
       "                                          ST_COLDESC  SEGLANEKEY  \\\n",
       "0                                  Entering at angle           0   \n",
       "1  From same direction - both going straight - bo...           0   \n",
       "2                             One parked--one moving           0   \n",
       "3                   From same direction - all others           0   \n",
       "4                                  Entering at angle           0   \n",
       "5                                  Entering at angle           0   \n",
       "6                                  Entering at angle           0   \n",
       "7                       Vehicle Strikes Pedalcyclist        6855   \n",
       "8                             One parked--one moving           0   \n",
       "9                                  Entering at angle           0   \n",
       "\n",
       "   CROSSWALKKEY  HITPARKEDCAR  \n",
       "0             0             N  \n",
       "1             0             N  \n",
       "2             0             N  \n",
       "3             0             N  \n",
       "4             0             N  \n",
       "5             0             N  \n",
       "6             0             N  \n",
       "7             0             N  \n",
       "8             0             N  \n",
       "9             0             N  \n",
       "\n",
       "[10 rows x 38 columns]"
      ],
      "text/html": "<div>\n<style scoped>\n    .dataframe tbody tr th:only-of-type {\n        vertical-align: middle;\n    }\n\n    .dataframe tbody tr th {\n        vertical-align: top;\n    }\n\n    .dataframe thead th {\n        text-align: right;\n    }\n</style>\n<table border=\"1\" class=\"dataframe\">\n  <thead>\n    <tr style=\"text-align: right;\">\n      <th></th>\n      <th>SEVERITYCODE</th>\n      <th>X</th>\n      <th>Y</th>\n      <th>OBJECTID</th>\n      <th>INCKEY</th>\n      <th>COLDETKEY</th>\n      <th>REPORTNO</th>\n      <th>STATUS</th>\n      <th>ADDRTYPE</th>\n      <th>INTKEY</th>\n      <th>...</th>\n      <th>ROADCOND</th>\n      <th>LIGHTCOND</th>\n      <th>PEDROWNOTGRNT</th>\n      <th>SDOTCOLNUM</th>\n      <th>SPEEDING</th>\n      <th>ST_COLCODE</th>\n      <th>ST_COLDESC</th>\n      <th>SEGLANEKEY</th>\n      <th>CROSSWALKKEY</th>\n      <th>HITPARKEDCAR</th>\n    </tr>\n  </thead>\n  <tbody>\n    <tr>\n      <td>0</td>\n      <td>2</td>\n      <td>-122.323148</td>\n      <td>47.703140</td>\n      <td>1</td>\n      <td>1307</td>\n      <td>1307</td>\n      <td>3502005</td>\n      <td>Matched</td>\n      <td>Intersection</td>\n      <td>37475.0</td>\n      <td>...</td>\n      <td>Wet</td>\n      <td>Daylight</td>\n      <td>NaN</td>\n      <td>NaN</td>\n      <td>NaN</td>\n      <td>10</td>\n      <td>Entering at angle</td>\n      <td>0</td>\n      <td>0</td>\n      <td>N</td>\n    </tr>\n    <tr>\n      <td>1</td>\n      <td>1</td>\n      <td>-122.347294</td>\n      <td>47.647172</td>\n      <td>2</td>\n      <td>52200</td>\n      <td>52200</td>\n      <td>2607959</td>\n      <td>Matched</td>\n      <td>Block</td>\n      <td>NaN</td>\n      <td>...</td>\n      <td>Wet</td>\n      <td>Dark - Street Lights On</td>\n      <td>NaN</td>\n      <td>6354039.0</td>\n      <td>NaN</td>\n      <td>11</td>\n      <td>From same direction - both going straight - bo...</td>\n      <td>0</td>\n      <td>0</td>\n      <td>N</td>\n    </tr>\n    <tr>\n      <td>2</td>\n      <td>1</td>\n      <td>-122.334540</td>\n      <td>47.607871</td>\n      <td>3</td>\n      <td>26700</td>\n      <td>26700</td>\n      <td>1482393</td>\n      <td>Matched</td>\n      <td>Block</td>\n      <td>NaN</td>\n      <td>...</td>\n      <td>Dry</td>\n      <td>Daylight</td>\n      <td>NaN</td>\n      <td>4323031.0</td>\n      <td>NaN</td>\n      <td>32</td>\n      <td>One parked--one moving</td>\n      <td>0</td>\n      <td>0</td>\n      <td>N</td>\n    </tr>\n    <tr>\n      <td>3</td>\n      <td>1</td>\n      <td>-122.334803</td>\n      <td>47.604803</td>\n      <td>4</td>\n      <td>1144</td>\n      <td>1144</td>\n      <td>3503937</td>\n      <td>Matched</td>\n      <td>Block</td>\n      <td>NaN</td>\n      <td>...</td>\n      <td>Dry</td>\n      <td>Daylight</td>\n      <td>NaN</td>\n      <td>NaN</td>\n      <td>NaN</td>\n      <td>23</td>\n      <td>From same direction - all others</td>\n      <td>0</td>\n      <td>0</td>\n      <td>N</td>\n    </tr>\n    <tr>\n      <td>4</td>\n      <td>2</td>\n      <td>-122.306426</td>\n      <td>47.545739</td>\n      <td>5</td>\n      <td>17700</td>\n      <td>17700</td>\n      <td>1807429</td>\n      <td>Matched</td>\n      <td>Intersection</td>\n      <td>34387.0</td>\n      <td>...</td>\n      <td>Wet</td>\n      <td>Daylight</td>\n      <td>NaN</td>\n      <td>4028032.0</td>\n      <td>NaN</td>\n      <td>10</td>\n      <td>Entering at angle</td>\n      <td>0</td>\n      <td>0</td>\n      <td>N</td>\n    </tr>\n    <tr>\n      <td>5</td>\n      <td>1</td>\n      <td>-122.387598</td>\n      <td>47.690575</td>\n      <td>6</td>\n      <td>320840</td>\n      <td>322340</td>\n      <td>E919477</td>\n      <td>Matched</td>\n      <td>Intersection</td>\n      <td>36974.0</td>\n      <td>...</td>\n      <td>Dry</td>\n      <td>Daylight</td>\n      <td>NaN</td>\n      <td>NaN</td>\n      <td>NaN</td>\n      <td>10</td>\n      <td>Entering at angle</td>\n      <td>0</td>\n      <td>0</td>\n      <td>N</td>\n    </tr>\n    <tr>\n      <td>6</td>\n      <td>1</td>\n      <td>-122.338485</td>\n      <td>47.618534</td>\n      <td>7</td>\n      <td>83300</td>\n      <td>83300</td>\n      <td>3282542</td>\n      <td>Matched</td>\n      <td>Intersection</td>\n      <td>29510.0</td>\n      <td>...</td>\n      <td>Wet</td>\n      <td>Daylight</td>\n      <td>NaN</td>\n      <td>8344002.0</td>\n      <td>NaN</td>\n      <td>10</td>\n      <td>Entering at angle</td>\n      <td>0</td>\n      <td>0</td>\n      <td>N</td>\n    </tr>\n    <tr>\n      <td>7</td>\n      <td>2</td>\n      <td>-122.320780</td>\n      <td>47.614076</td>\n      <td>9</td>\n      <td>330897</td>\n      <td>332397</td>\n      <td>EA30304</td>\n      <td>Matched</td>\n      <td>Intersection</td>\n      <td>29745.0</td>\n      <td>...</td>\n      <td>Dry</td>\n      <td>Daylight</td>\n      <td>NaN</td>\n      <td>NaN</td>\n      <td>NaN</td>\n      <td>5</td>\n      <td>Vehicle Strikes Pedalcyclist</td>\n      <td>6855</td>\n      <td>0</td>\n      <td>N</td>\n    </tr>\n    <tr>\n      <td>8</td>\n      <td>1</td>\n      <td>-122.335930</td>\n      <td>47.611904</td>\n      <td>10</td>\n      <td>63400</td>\n      <td>63400</td>\n      <td>2071243</td>\n      <td>Matched</td>\n      <td>Block</td>\n      <td>NaN</td>\n      <td>...</td>\n      <td>Dry</td>\n      <td>Daylight</td>\n      <td>NaN</td>\n      <td>6166014.0</td>\n      <td>NaN</td>\n      <td>32</td>\n      <td>One parked--one moving</td>\n      <td>0</td>\n      <td>0</td>\n      <td>N</td>\n    </tr>\n    <tr>\n      <td>9</td>\n      <td>2</td>\n      <td>-122.384700</td>\n      <td>47.528475</td>\n      <td>12</td>\n      <td>58600</td>\n      <td>58600</td>\n      <td>2072105</td>\n      <td>Matched</td>\n      <td>Intersection</td>\n      <td>34679.0</td>\n      <td>...</td>\n      <td>Dry</td>\n      <td>Daylight</td>\n      <td>NaN</td>\n      <td>6079001.0</td>\n      <td>NaN</td>\n      <td>10</td>\n      <td>Entering at angle</td>\n      <td>0</td>\n      <td>0</td>\n      <td>N</td>\n    </tr>\n  </tbody>\n</table>\n<p>10 rows × 38 columns</p>\n</div>"
     },
     "metadata": {},
     "execution_count": 33
    }
   ],
   "source": [
    "collision_data.head(10)"
   ]
  },
  {
   "cell_type": "code",
   "execution_count": 34,
   "metadata": {},
   "outputs": [
    {
     "output_type": "execute_result",
     "data": {
      "text/plain": [
       "Index(['SEVERITYCODE', 'X', 'Y', 'OBJECTID', 'INCKEY', 'COLDETKEY', 'REPORTNO',\n",
       "       'STATUS', 'ADDRTYPE', 'INTKEY', 'LOCATION', 'EXCEPTRSNCODE',\n",
       "       'EXCEPTRSNDESC', 'SEVERITYCODE.1', 'SEVERITYDESC', 'COLLISIONTYPE',\n",
       "       'PERSONCOUNT', 'PEDCOUNT', 'PEDCYLCOUNT', 'VEHCOUNT', 'INCDATE',\n",
       "       'INCDTTM', 'JUNCTIONTYPE', 'SDOT_COLCODE', 'SDOT_COLDESC',\n",
       "       'INATTENTIONIND', 'UNDERINFL', 'WEATHER', 'ROADCOND', 'LIGHTCOND',\n",
       "       'PEDROWNOTGRNT', 'SDOTCOLNUM', 'SPEEDING', 'ST_COLCODE', 'ST_COLDESC',\n",
       "       'SEGLANEKEY', 'CROSSWALKKEY', 'HITPARKEDCAR'],\n",
       "      dtype='object')"
      ]
     },
     "metadata": {},
     "execution_count": 34
    }
   ],
   "source": [
    "collision_data.columns"
   ]
  },
  {
   "cell_type": "code",
   "execution_count": null,
   "metadata": {},
   "outputs": [],
   "source": [
    "#Now to convert our categorical values into numeric values, so that our tree can accurately interpret them. We will utilize a for-loop in order to rapidly do this\n",
    "for i in ['ADDRTYPE']\n",
    "labels = collision_data['ADDRTYPE'].astype('category').cat.categories.tolist()\n",
    "replace_map_comp = {'ADDRTYPE' : {k: v for k,v in zip(labels,list(range(1,len(labels)+1)))}}\n",
    "collision_data.replace(replace_map_comp, inplace=True)\n",
    "print(replace_map_comp)"
   ]
  },
  {
   "cell_type": "code",
   "execution_count": 35,
   "metadata": {},
   "outputs": [
    {
     "output_type": "execute_result",
     "data": {
      "text/plain": [
       "                SEVERITYCODE         X         Y  OBJECTID    INCKEY  \\\n",
       "SEVERITYCODE        1.000000  0.010309  0.017737  0.020131  0.022065   \n",
       "X                   0.010309  1.000000 -0.160262  0.009956  0.010309   \n",
       "Y                   0.017737 -0.160262  1.000000 -0.023848 -0.027396   \n",
       "OBJECTID            0.020131  0.009956 -0.023848  1.000000  0.946383   \n",
       "INCKEY              0.022065  0.010309 -0.027396  0.946383  1.000000   \n",
       "COLDETKEY           0.022079  0.010300 -0.027415  0.945837  0.999996   \n",
       "INTKEY              0.006553  0.120754 -0.114935  0.046929  0.048524   \n",
       "SEVERITYCODE.1      1.000000  0.010309  0.017737  0.020131  0.022065   \n",
       "PERSONCOUNT         0.130949  0.012887 -0.013850 -0.062333 -0.061500   \n",
       "PEDCOUNT            0.246338  0.011304  0.010178  0.024604  0.024918   \n",
       "PEDCYLCOUNT         0.214218 -0.001752  0.026304  0.034432  0.031342   \n",
       "VEHCOUNT           -0.054686 -0.012168  0.017058 -0.094280 -0.107528   \n",
       "SDOT_COLCODE        0.188905  0.010904 -0.019694 -0.037094 -0.027617   \n",
       "SDOTCOLNUM          0.004226 -0.001016 -0.006958  0.969276  0.990571   \n",
       "SEGLANEKEY          0.104276 -0.001618  0.004618  0.028076  0.019701   \n",
       "CROSSWALKKEY        0.175093  0.013586  0.009508  0.056046  0.048179   \n",
       "\n",
       "                COLDETKEY    INTKEY  SEVERITYCODE.1  PERSONCOUNT  PEDCOUNT  \\\n",
       "SEVERITYCODE     0.022079  0.006553        1.000000     0.130949  0.246338   \n",
       "X                0.010300  0.120754        0.010309     0.012887  0.011304   \n",
       "Y               -0.027415 -0.114935        0.017737    -0.013850  0.010178   \n",
       "OBJECTID         0.945837  0.046929        0.020131    -0.062333  0.024604   \n",
       "INCKEY           0.999996  0.048524        0.022065    -0.061500  0.024918   \n",
       "COLDETKEY        1.000000  0.048499        0.022079    -0.061403  0.024914   \n",
       "INTKEY           0.048499  1.000000        0.006553     0.001886 -0.004784   \n",
       "SEVERITYCODE.1   0.022079  0.006553        1.000000     0.130949  0.246338   \n",
       "PERSONCOUNT     -0.061403  0.001886        0.130949     1.000000 -0.023464   \n",
       "PEDCOUNT         0.024914 -0.004784        0.246338    -0.023464  1.000000   \n",
       "PEDCYLCOUNT      0.031296  0.000531        0.214218    -0.038809 -0.016920   \n",
       "VEHCOUNT        -0.107598 -0.012929       -0.054686     0.380523 -0.261285   \n",
       "SDOT_COLCODE    -0.027461  0.007114        0.188905    -0.128960  0.260393   \n",
       "SDOTCOLNUM       0.990571  0.032604        0.004226     0.011784  0.021461   \n",
       "SEGLANEKEY       0.019586 -0.010510        0.104276    -0.021383  0.001810   \n",
       "CROSSWALKKEY     0.048063  0.018420        0.175093    -0.032258  0.565326   \n",
       "\n",
       "                PEDCYLCOUNT  VEHCOUNT  SDOT_COLCODE  SDOTCOLNUM  SEGLANEKEY  \\\n",
       "SEVERITYCODE       0.214218 -0.054686      0.188905    0.004226    0.104276   \n",
       "X                 -0.001752 -0.012168      0.010904   -0.001016   -0.001618   \n",
       "Y                  0.026304  0.017058     -0.019694   -0.006958    0.004618   \n",
       "OBJECTID           0.034432 -0.094280     -0.037094    0.969276    0.028076   \n",
       "INCKEY             0.031342 -0.107528     -0.027617    0.990571    0.019701   \n",
       "COLDETKEY          0.031296 -0.107598     -0.027461    0.990571    0.019586   \n",
       "INTKEY             0.000531 -0.012929      0.007114    0.032604   -0.010510   \n",
       "SEVERITYCODE.1     0.214218 -0.054686      0.188905    0.004226    0.104276   \n",
       "PERSONCOUNT       -0.038809  0.380523     -0.128960    0.011784   -0.021383   \n",
       "PEDCOUNT          -0.016920 -0.261285      0.260393    0.021461    0.001810   \n",
       "PEDCYLCOUNT        1.000000 -0.253773      0.382521    0.034593    0.453657   \n",
       "VEHCOUNT          -0.253773  1.000000     -0.365814   -0.023813   -0.122941   \n",
       "SDOT_COLCODE       0.382521 -0.365814      1.000000   -0.041084    0.206835   \n",
       "SDOTCOLNUM         0.034593 -0.023813     -0.041084    1.000000    0.066449   \n",
       "SEGLANEKEY         0.453657 -0.122941      0.206835    0.066449    1.000000   \n",
       "CROSSWALKKEY       0.109820 -0.200526      0.189518    0.086228   -0.003422   \n",
       "\n",
       "                CROSSWALKKEY  \n",
       "SEVERITYCODE        0.175093  \n",
       "X                   0.013586  \n",
       "Y                   0.009508  \n",
       "OBJECTID            0.056046  \n",
       "INCKEY              0.048179  \n",
       "COLDETKEY           0.048063  \n",
       "INTKEY              0.018420  \n",
       "SEVERITYCODE.1      0.175093  \n",
       "PERSONCOUNT        -0.032258  \n",
       "PEDCOUNT            0.565326  \n",
       "PEDCYLCOUNT         0.109820  \n",
       "VEHCOUNT           -0.200526  \n",
       "SDOT_COLCODE        0.189518  \n",
       "SDOTCOLNUM          0.086228  \n",
       "SEGLANEKEY         -0.003422  \n",
       "CROSSWALKKEY        1.000000  "
      ],
      "text/html": "<div>\n<style scoped>\n    .dataframe tbody tr th:only-of-type {\n        vertical-align: middle;\n    }\n\n    .dataframe tbody tr th {\n        vertical-align: top;\n    }\n\n    .dataframe thead th {\n        text-align: right;\n    }\n</style>\n<table border=\"1\" class=\"dataframe\">\n  <thead>\n    <tr style=\"text-align: right;\">\n      <th></th>\n      <th>SEVERITYCODE</th>\n      <th>X</th>\n      <th>Y</th>\n      <th>OBJECTID</th>\n      <th>INCKEY</th>\n      <th>COLDETKEY</th>\n      <th>INTKEY</th>\n      <th>SEVERITYCODE.1</th>\n      <th>PERSONCOUNT</th>\n      <th>PEDCOUNT</th>\n      <th>PEDCYLCOUNT</th>\n      <th>VEHCOUNT</th>\n      <th>SDOT_COLCODE</th>\n      <th>SDOTCOLNUM</th>\n      <th>SEGLANEKEY</th>\n      <th>CROSSWALKKEY</th>\n    </tr>\n  </thead>\n  <tbody>\n    <tr>\n      <td>SEVERITYCODE</td>\n      <td>1.000000</td>\n      <td>0.010309</td>\n      <td>0.017737</td>\n      <td>0.020131</td>\n      <td>0.022065</td>\n      <td>0.022079</td>\n      <td>0.006553</td>\n      <td>1.000000</td>\n      <td>0.130949</td>\n      <td>0.246338</td>\n      <td>0.214218</td>\n      <td>-0.054686</td>\n      <td>0.188905</td>\n      <td>0.004226</td>\n      <td>0.104276</td>\n      <td>0.175093</td>\n    </tr>\n    <tr>\n      <td>X</td>\n      <td>0.010309</td>\n      <td>1.000000</td>\n      <td>-0.160262</td>\n      <td>0.009956</td>\n      <td>0.010309</td>\n      <td>0.010300</td>\n      <td>0.120754</td>\n      <td>0.010309</td>\n      <td>0.012887</td>\n      <td>0.011304</td>\n      <td>-0.001752</td>\n      <td>-0.012168</td>\n      <td>0.010904</td>\n      <td>-0.001016</td>\n      <td>-0.001618</td>\n      <td>0.013586</td>\n    </tr>\n    <tr>\n      <td>Y</td>\n      <td>0.017737</td>\n      <td>-0.160262</td>\n      <td>1.000000</td>\n      <td>-0.023848</td>\n      <td>-0.027396</td>\n      <td>-0.027415</td>\n      <td>-0.114935</td>\n      <td>0.017737</td>\n      <td>-0.013850</td>\n      <td>0.010178</td>\n      <td>0.026304</td>\n      <td>0.017058</td>\n      <td>-0.019694</td>\n      <td>-0.006958</td>\n      <td>0.004618</td>\n      <td>0.009508</td>\n    </tr>\n    <tr>\n      <td>OBJECTID</td>\n      <td>0.020131</td>\n      <td>0.009956</td>\n      <td>-0.023848</td>\n      <td>1.000000</td>\n      <td>0.946383</td>\n      <td>0.945837</td>\n      <td>0.046929</td>\n      <td>0.020131</td>\n      <td>-0.062333</td>\n      <td>0.024604</td>\n      <td>0.034432</td>\n      <td>-0.094280</td>\n      <td>-0.037094</td>\n      <td>0.969276</td>\n      <td>0.028076</td>\n      <td>0.056046</td>\n    </tr>\n    <tr>\n      <td>INCKEY</td>\n      <td>0.022065</td>\n      <td>0.010309</td>\n      <td>-0.027396</td>\n      <td>0.946383</td>\n      <td>1.000000</td>\n      <td>0.999996</td>\n      <td>0.048524</td>\n      <td>0.022065</td>\n      <td>-0.061500</td>\n      <td>0.024918</td>\n      <td>0.031342</td>\n      <td>-0.107528</td>\n      <td>-0.027617</td>\n      <td>0.990571</td>\n      <td>0.019701</td>\n      <td>0.048179</td>\n    </tr>\n    <tr>\n      <td>COLDETKEY</td>\n      <td>0.022079</td>\n      <td>0.010300</td>\n      <td>-0.027415</td>\n      <td>0.945837</td>\n      <td>0.999996</td>\n      <td>1.000000</td>\n      <td>0.048499</td>\n      <td>0.022079</td>\n      <td>-0.061403</td>\n      <td>0.024914</td>\n      <td>0.031296</td>\n      <td>-0.107598</td>\n      <td>-0.027461</td>\n      <td>0.990571</td>\n      <td>0.019586</td>\n      <td>0.048063</td>\n    </tr>\n    <tr>\n      <td>INTKEY</td>\n      <td>0.006553</td>\n      <td>0.120754</td>\n      <td>-0.114935</td>\n      <td>0.046929</td>\n      <td>0.048524</td>\n      <td>0.048499</td>\n      <td>1.000000</td>\n      <td>0.006553</td>\n      <td>0.001886</td>\n      <td>-0.004784</td>\n      <td>0.000531</td>\n      <td>-0.012929</td>\n      <td>0.007114</td>\n      <td>0.032604</td>\n      <td>-0.010510</td>\n      <td>0.018420</td>\n    </tr>\n    <tr>\n      <td>SEVERITYCODE.1</td>\n      <td>1.000000</td>\n      <td>0.010309</td>\n      <td>0.017737</td>\n      <td>0.020131</td>\n      <td>0.022065</td>\n      <td>0.022079</td>\n      <td>0.006553</td>\n      <td>1.000000</td>\n      <td>0.130949</td>\n      <td>0.246338</td>\n      <td>0.214218</td>\n      <td>-0.054686</td>\n      <td>0.188905</td>\n      <td>0.004226</td>\n      <td>0.104276</td>\n      <td>0.175093</td>\n    </tr>\n    <tr>\n      <td>PERSONCOUNT</td>\n      <td>0.130949</td>\n      <td>0.012887</td>\n      <td>-0.013850</td>\n      <td>-0.062333</td>\n      <td>-0.061500</td>\n      <td>-0.061403</td>\n      <td>0.001886</td>\n      <td>0.130949</td>\n      <td>1.000000</td>\n      <td>-0.023464</td>\n      <td>-0.038809</td>\n      <td>0.380523</td>\n      <td>-0.128960</td>\n      <td>0.011784</td>\n      <td>-0.021383</td>\n      <td>-0.032258</td>\n    </tr>\n    <tr>\n      <td>PEDCOUNT</td>\n      <td>0.246338</td>\n      <td>0.011304</td>\n      <td>0.010178</td>\n      <td>0.024604</td>\n      <td>0.024918</td>\n      <td>0.024914</td>\n      <td>-0.004784</td>\n      <td>0.246338</td>\n      <td>-0.023464</td>\n      <td>1.000000</td>\n      <td>-0.016920</td>\n      <td>-0.261285</td>\n      <td>0.260393</td>\n      <td>0.021461</td>\n      <td>0.001810</td>\n      <td>0.565326</td>\n    </tr>\n    <tr>\n      <td>PEDCYLCOUNT</td>\n      <td>0.214218</td>\n      <td>-0.001752</td>\n      <td>0.026304</td>\n      <td>0.034432</td>\n      <td>0.031342</td>\n      <td>0.031296</td>\n      <td>0.000531</td>\n      <td>0.214218</td>\n      <td>-0.038809</td>\n      <td>-0.016920</td>\n      <td>1.000000</td>\n      <td>-0.253773</td>\n      <td>0.382521</td>\n      <td>0.034593</td>\n      <td>0.453657</td>\n      <td>0.109820</td>\n    </tr>\n    <tr>\n      <td>VEHCOUNT</td>\n      <td>-0.054686</td>\n      <td>-0.012168</td>\n      <td>0.017058</td>\n      <td>-0.094280</td>\n      <td>-0.107528</td>\n      <td>-0.107598</td>\n      <td>-0.012929</td>\n      <td>-0.054686</td>\n      <td>0.380523</td>\n      <td>-0.261285</td>\n      <td>-0.253773</td>\n      <td>1.000000</td>\n      <td>-0.365814</td>\n      <td>-0.023813</td>\n      <td>-0.122941</td>\n      <td>-0.200526</td>\n    </tr>\n    <tr>\n      <td>SDOT_COLCODE</td>\n      <td>0.188905</td>\n      <td>0.010904</td>\n      <td>-0.019694</td>\n      <td>-0.037094</td>\n      <td>-0.027617</td>\n      <td>-0.027461</td>\n      <td>0.007114</td>\n      <td>0.188905</td>\n      <td>-0.128960</td>\n      <td>0.260393</td>\n      <td>0.382521</td>\n      <td>-0.365814</td>\n      <td>1.000000</td>\n      <td>-0.041084</td>\n      <td>0.206835</td>\n      <td>0.189518</td>\n    </tr>\n    <tr>\n      <td>SDOTCOLNUM</td>\n      <td>0.004226</td>\n      <td>-0.001016</td>\n      <td>-0.006958</td>\n      <td>0.969276</td>\n      <td>0.990571</td>\n      <td>0.990571</td>\n      <td>0.032604</td>\n      <td>0.004226</td>\n      <td>0.011784</td>\n      <td>0.021461</td>\n      <td>0.034593</td>\n      <td>-0.023813</td>\n      <td>-0.041084</td>\n      <td>1.000000</td>\n      <td>0.066449</td>\n      <td>0.086228</td>\n    </tr>\n    <tr>\n      <td>SEGLANEKEY</td>\n      <td>0.104276</td>\n      <td>-0.001618</td>\n      <td>0.004618</td>\n      <td>0.028076</td>\n      <td>0.019701</td>\n      <td>0.019586</td>\n      <td>-0.010510</td>\n      <td>0.104276</td>\n      <td>-0.021383</td>\n      <td>0.001810</td>\n      <td>0.453657</td>\n      <td>-0.122941</td>\n      <td>0.206835</td>\n      <td>0.066449</td>\n      <td>1.000000</td>\n      <td>-0.003422</td>\n    </tr>\n    <tr>\n      <td>CROSSWALKKEY</td>\n      <td>0.175093</td>\n      <td>0.013586</td>\n      <td>0.009508</td>\n      <td>0.056046</td>\n      <td>0.048179</td>\n      <td>0.048063</td>\n      <td>0.018420</td>\n      <td>0.175093</td>\n      <td>-0.032258</td>\n      <td>0.565326</td>\n      <td>0.109820</td>\n      <td>-0.200526</td>\n      <td>0.189518</td>\n      <td>0.086228</td>\n      <td>-0.003422</td>\n      <td>1.000000</td>\n    </tr>\n  </tbody>\n</table>\n</div>"
     },
     "metadata": {},
     "execution_count": 35
    }
   ],
   "source": [
    "collision_data.corr(method=\"pearson\")"
   ]
  },
  {
   "cell_type": "code",
   "execution_count": 52,
   "metadata": {},
   "outputs": [
    {
     "output_type": "execute_result",
     "data": {
      "text/plain": [
       "        SEVERITYCODE      ADDRTYPE                    SEVERITYDESC  \\\n",
       "0                  2  Intersection                Injury Collision   \n",
       "1                  1         Block  Property Damage Only Collision   \n",
       "2                  1         Block  Property Damage Only Collision   \n",
       "3                  1         Block  Property Damage Only Collision   \n",
       "4                  2  Intersection                Injury Collision   \n",
       "...              ...           ...                             ...   \n",
       "194668             2         Block                Injury Collision   \n",
       "194669             1         Block  Property Damage Only Collision   \n",
       "194670             2  Intersection                Injury Collision   \n",
       "194671             2  Intersection                Injury Collision   \n",
       "194672             1         Block  Property Damage Only Collision   \n",
       "\n",
       "       COLLISIONTYPE  PERSONCOUNT  PEDCOUNT  PEDCYLCOUNT  VEHCOUNT  \\\n",
       "0             Angles            2         0            0         2   \n",
       "1          Sideswipe            2         0            0         2   \n",
       "2         Parked Car            4         0            0         3   \n",
       "3              Other            3         0            0         3   \n",
       "4             Angles            2         0            0         2   \n",
       "...              ...          ...       ...          ...       ...   \n",
       "194668       Head On            3         0            0         2   \n",
       "194669    Rear Ended            2         0            0         2   \n",
       "194670     Left Turn            3         0            0         2   \n",
       "194671        Cycles            2         0            1         1   \n",
       "194672    Rear Ended            2         0            0         2   \n",
       "\n",
       "                                   JUNCTIONTYPE  \\\n",
       "0        At Intersection (intersection related)   \n",
       "1       Mid-Block (not related to intersection)   \n",
       "2       Mid-Block (not related to intersection)   \n",
       "3       Mid-Block (not related to intersection)   \n",
       "4        At Intersection (intersection related)   \n",
       "...                                         ...   \n",
       "194668  Mid-Block (not related to intersection)   \n",
       "194669  Mid-Block (not related to intersection)   \n",
       "194670   At Intersection (intersection related)   \n",
       "194671   At Intersection (intersection related)   \n",
       "194672  Mid-Block (not related to intersection)   \n",
       "\n",
       "                                             SDOT_COLDESC  ... UNDERINFL  \\\n",
       "0       MOTOR VEHICLE STRUCK MOTOR VEHICLE, FRONT END ...  ...         N   \n",
       "1       MOTOR VEHICLE STRUCK MOTOR VEHICLE, LEFT SIDE ...  ...         0   \n",
       "2            MOTOR VEHICLE STRUCK MOTOR VEHICLE, REAR END  ...         0   \n",
       "3       MOTOR VEHICLE STRUCK MOTOR VEHICLE, FRONT END ...  ...         N   \n",
       "4       MOTOR VEHICLE STRUCK MOTOR VEHICLE, FRONT END ...  ...         0   \n",
       "...                                                   ...  ...       ...   \n",
       "194668  MOTOR VEHICLE STRUCK MOTOR VEHICLE, FRONT END ...  ...         N   \n",
       "194669       MOTOR VEHICLE STRUCK MOTOR VEHICLE, REAR END  ...         N   \n",
       "194670  MOTOR VEHICLE STRUCK MOTOR VEHICLE, FRONT END ...  ...         N   \n",
       "194671  PEDALCYCLIST STRUCK MOTOR VEHICLE FRONT END AT...  ...         N   \n",
       "194672       MOTOR VEHICLE STRUCK MOTOR VEHICLE, REAR END  ...         N   \n",
       "\n",
       "         WEATHER ROADCOND                LIGHTCOND PEDROWNOTGRNT SPEEDING  \\\n",
       "0       Overcast      Wet                 Daylight           NaN      NaN   \n",
       "1        Raining      Wet  Dark - Street Lights On           NaN      NaN   \n",
       "2       Overcast      Dry                 Daylight           NaN      NaN   \n",
       "3          Clear      Dry                 Daylight           NaN      NaN   \n",
       "4        Raining      Wet                 Daylight           NaN      NaN   \n",
       "...          ...      ...                      ...           ...      ...   \n",
       "194668     Clear      Dry                 Daylight           NaN      NaN   \n",
       "194669   Raining      Wet                 Daylight           NaN      NaN   \n",
       "194670     Clear      Dry                 Daylight           NaN      NaN   \n",
       "194671     Clear      Dry                     Dusk           NaN      NaN   \n",
       "194672     Clear      Wet                 Daylight           NaN      NaN   \n",
       "\n",
       "       ST_COLCODE SEGLANEKEY  CROSSWALKKEY  HITPARKEDCAR  \n",
       "0              10          0             0             N  \n",
       "1              11          0             0             N  \n",
       "2              32          0             0             N  \n",
       "3              23          0             0             N  \n",
       "4              10          0             0             N  \n",
       "...           ...        ...           ...           ...  \n",
       "194668         24          0             0             N  \n",
       "194669         13          0             0             N  \n",
       "194670         28          0             0             N  \n",
       "194671          5       4308             0             N  \n",
       "194672         14          0             0             N  \n",
       "\n",
       "[189035 rows x 21 columns]"
      ],
      "text/html": "<div>\n<style scoped>\n    .dataframe tbody tr th:only-of-type {\n        vertical-align: middle;\n    }\n\n    .dataframe tbody tr th {\n        vertical-align: top;\n    }\n\n    .dataframe thead th {\n        text-align: right;\n    }\n</style>\n<table border=\"1\" class=\"dataframe\">\n  <thead>\n    <tr style=\"text-align: right;\">\n      <th></th>\n      <th>SEVERITYCODE</th>\n      <th>ADDRTYPE</th>\n      <th>SEVERITYDESC</th>\n      <th>COLLISIONTYPE</th>\n      <th>PERSONCOUNT</th>\n      <th>PEDCOUNT</th>\n      <th>PEDCYLCOUNT</th>\n      <th>VEHCOUNT</th>\n      <th>JUNCTIONTYPE</th>\n      <th>SDOT_COLDESC</th>\n      <th>...</th>\n      <th>UNDERINFL</th>\n      <th>WEATHER</th>\n      <th>ROADCOND</th>\n      <th>LIGHTCOND</th>\n      <th>PEDROWNOTGRNT</th>\n      <th>SPEEDING</th>\n      <th>ST_COLCODE</th>\n      <th>SEGLANEKEY</th>\n      <th>CROSSWALKKEY</th>\n      <th>HITPARKEDCAR</th>\n    </tr>\n  </thead>\n  <tbody>\n    <tr>\n      <td>0</td>\n      <td>2</td>\n      <td>Intersection</td>\n      <td>Injury Collision</td>\n      <td>Angles</td>\n      <td>2</td>\n      <td>0</td>\n      <td>0</td>\n      <td>2</td>\n      <td>At Intersection (intersection related)</td>\n      <td>MOTOR VEHICLE STRUCK MOTOR VEHICLE, FRONT END ...</td>\n      <td>...</td>\n      <td>N</td>\n      <td>Overcast</td>\n      <td>Wet</td>\n      <td>Daylight</td>\n      <td>NaN</td>\n      <td>NaN</td>\n      <td>10</td>\n      <td>0</td>\n      <td>0</td>\n      <td>N</td>\n    </tr>\n    <tr>\n      <td>1</td>\n      <td>1</td>\n      <td>Block</td>\n      <td>Property Damage Only Collision</td>\n      <td>Sideswipe</td>\n      <td>2</td>\n      <td>0</td>\n      <td>0</td>\n      <td>2</td>\n      <td>Mid-Block (not related to intersection)</td>\n      <td>MOTOR VEHICLE STRUCK MOTOR VEHICLE, LEFT SIDE ...</td>\n      <td>...</td>\n      <td>0</td>\n      <td>Raining</td>\n      <td>Wet</td>\n      <td>Dark - Street Lights On</td>\n      <td>NaN</td>\n      <td>NaN</td>\n      <td>11</td>\n      <td>0</td>\n      <td>0</td>\n      <td>N</td>\n    </tr>\n    <tr>\n      <td>2</td>\n      <td>1</td>\n      <td>Block</td>\n      <td>Property Damage Only Collision</td>\n      <td>Parked Car</td>\n      <td>4</td>\n      <td>0</td>\n      <td>0</td>\n      <td>3</td>\n      <td>Mid-Block (not related to intersection)</td>\n      <td>MOTOR VEHICLE STRUCK MOTOR VEHICLE, REAR END</td>\n      <td>...</td>\n      <td>0</td>\n      <td>Overcast</td>\n      <td>Dry</td>\n      <td>Daylight</td>\n      <td>NaN</td>\n      <td>NaN</td>\n      <td>32</td>\n      <td>0</td>\n      <td>0</td>\n      <td>N</td>\n    </tr>\n    <tr>\n      <td>3</td>\n      <td>1</td>\n      <td>Block</td>\n      <td>Property Damage Only Collision</td>\n      <td>Other</td>\n      <td>3</td>\n      <td>0</td>\n      <td>0</td>\n      <td>3</td>\n      <td>Mid-Block (not related to intersection)</td>\n      <td>MOTOR VEHICLE STRUCK MOTOR VEHICLE, FRONT END ...</td>\n      <td>...</td>\n      <td>N</td>\n      <td>Clear</td>\n      <td>Dry</td>\n      <td>Daylight</td>\n      <td>NaN</td>\n      <td>NaN</td>\n      <td>23</td>\n      <td>0</td>\n      <td>0</td>\n      <td>N</td>\n    </tr>\n    <tr>\n      <td>4</td>\n      <td>2</td>\n      <td>Intersection</td>\n      <td>Injury Collision</td>\n      <td>Angles</td>\n      <td>2</td>\n      <td>0</td>\n      <td>0</td>\n      <td>2</td>\n      <td>At Intersection (intersection related)</td>\n      <td>MOTOR VEHICLE STRUCK MOTOR VEHICLE, FRONT END ...</td>\n      <td>...</td>\n      <td>0</td>\n      <td>Raining</td>\n      <td>Wet</td>\n      <td>Daylight</td>\n      <td>NaN</td>\n      <td>NaN</td>\n      <td>10</td>\n      <td>0</td>\n      <td>0</td>\n      <td>N</td>\n    </tr>\n    <tr>\n      <td>...</td>\n      <td>...</td>\n      <td>...</td>\n      <td>...</td>\n      <td>...</td>\n      <td>...</td>\n      <td>...</td>\n      <td>...</td>\n      <td>...</td>\n      <td>...</td>\n      <td>...</td>\n      <td>...</td>\n      <td>...</td>\n      <td>...</td>\n      <td>...</td>\n      <td>...</td>\n      <td>...</td>\n      <td>...</td>\n      <td>...</td>\n      <td>...</td>\n      <td>...</td>\n      <td>...</td>\n    </tr>\n    <tr>\n      <td>194668</td>\n      <td>2</td>\n      <td>Block</td>\n      <td>Injury Collision</td>\n      <td>Head On</td>\n      <td>3</td>\n      <td>0</td>\n      <td>0</td>\n      <td>2</td>\n      <td>Mid-Block (not related to intersection)</td>\n      <td>MOTOR VEHICLE STRUCK MOTOR VEHICLE, FRONT END ...</td>\n      <td>...</td>\n      <td>N</td>\n      <td>Clear</td>\n      <td>Dry</td>\n      <td>Daylight</td>\n      <td>NaN</td>\n      <td>NaN</td>\n      <td>24</td>\n      <td>0</td>\n      <td>0</td>\n      <td>N</td>\n    </tr>\n    <tr>\n      <td>194669</td>\n      <td>1</td>\n      <td>Block</td>\n      <td>Property Damage Only Collision</td>\n      <td>Rear Ended</td>\n      <td>2</td>\n      <td>0</td>\n      <td>0</td>\n      <td>2</td>\n      <td>Mid-Block (not related to intersection)</td>\n      <td>MOTOR VEHICLE STRUCK MOTOR VEHICLE, REAR END</td>\n      <td>...</td>\n      <td>N</td>\n      <td>Raining</td>\n      <td>Wet</td>\n      <td>Daylight</td>\n      <td>NaN</td>\n      <td>NaN</td>\n      <td>13</td>\n      <td>0</td>\n      <td>0</td>\n      <td>N</td>\n    </tr>\n    <tr>\n      <td>194670</td>\n      <td>2</td>\n      <td>Intersection</td>\n      <td>Injury Collision</td>\n      <td>Left Turn</td>\n      <td>3</td>\n      <td>0</td>\n      <td>0</td>\n      <td>2</td>\n      <td>At Intersection (intersection related)</td>\n      <td>MOTOR VEHICLE STRUCK MOTOR VEHICLE, FRONT END ...</td>\n      <td>...</td>\n      <td>N</td>\n      <td>Clear</td>\n      <td>Dry</td>\n      <td>Daylight</td>\n      <td>NaN</td>\n      <td>NaN</td>\n      <td>28</td>\n      <td>0</td>\n      <td>0</td>\n      <td>N</td>\n    </tr>\n    <tr>\n      <td>194671</td>\n      <td>2</td>\n      <td>Intersection</td>\n      <td>Injury Collision</td>\n      <td>Cycles</td>\n      <td>2</td>\n      <td>0</td>\n      <td>1</td>\n      <td>1</td>\n      <td>At Intersection (intersection related)</td>\n      <td>PEDALCYCLIST STRUCK MOTOR VEHICLE FRONT END AT...</td>\n      <td>...</td>\n      <td>N</td>\n      <td>Clear</td>\n      <td>Dry</td>\n      <td>Dusk</td>\n      <td>NaN</td>\n      <td>NaN</td>\n      <td>5</td>\n      <td>4308</td>\n      <td>0</td>\n      <td>N</td>\n    </tr>\n    <tr>\n      <td>194672</td>\n      <td>1</td>\n      <td>Block</td>\n      <td>Property Damage Only Collision</td>\n      <td>Rear Ended</td>\n      <td>2</td>\n      <td>0</td>\n      <td>0</td>\n      <td>2</td>\n      <td>Mid-Block (not related to intersection)</td>\n      <td>MOTOR VEHICLE STRUCK MOTOR VEHICLE, REAR END</td>\n      <td>...</td>\n      <td>N</td>\n      <td>Clear</td>\n      <td>Wet</td>\n      <td>Daylight</td>\n      <td>NaN</td>\n      <td>NaN</td>\n      <td>14</td>\n      <td>0</td>\n      <td>0</td>\n      <td>N</td>\n    </tr>\n  </tbody>\n</table>\n<p>189035 rows × 21 columns</p>\n</div>"
     },
     "metadata": {},
     "execution_count": 52
    }
   ],
   "source": [
    "collision_data_relevant = collision_data.drop(columns=['X', 'Y', 'OBJECTID', 'INCKEY','INCDATE', 'COLDETKEY', 'INTKEY', 'STATUS', 'LOCATION', 'STATUS', 'REPORTNO', 'SEVERITYCODE.1', 'SDOT_COLCODE', 'SDOTCOLNUM', 'ST_COLDESC','INCDTTM'])\n",
    "collision_data_relevant.drop(collision_data_relevant[collision_data_relevant.EXCEPTRSNCODE == 'NEI'].index, inplace=True)\n",
    "collision_data_relevant.drop(columns=['EXCEPTRSNCODE', 'EXCEPTRSNDESC'])"
   ]
  },
  {
   "cell_type": "code",
   "execution_count": 51,
   "metadata": {},
   "outputs": [
    {
     "output_type": "stream",
     "name": "stdout",
     "text": [
      "{'ADDRTYPE': {'Alley': 1, 'Block': 2, 'Intersection': 3}}\n"
     ]
    }
   ],
   "source": [
    "#Now we will convert the datetime to only the hour, and we will bucket the hours into a "
   ]
  },
  {
   "cell_type": "code",
   "execution_count": null,
   "metadata": {},
   "outputs": [],
   "source": []
  }
 ]
}