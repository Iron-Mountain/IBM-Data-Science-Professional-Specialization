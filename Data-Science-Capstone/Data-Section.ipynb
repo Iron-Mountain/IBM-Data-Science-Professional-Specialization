{
 "metadata": {
  "language_info": {
   "codemirror_mode": {
    "name": "ipython",
    "version": 3
   },
   "file_extension": ".py",
   "mimetype": "text/x-python",
   "name": "python",
   "nbconvert_exporter": "python",
   "pygments_lexer": "ipython3",
   "version": "3.7.1-final"
  },
  "orig_nbformat": 2,
  "kernelspec": {
   "name": "Python 3.7.1 64-bit ('base': conda)",
   "display_name": "Python 3.7.1 64-bit ('base': conda)",
   "metadata": {
    "interpreter": {
     "hash": "540b8b5107148be1bb809aadf5ddc82ec8ca277383f3dc745d8ed3d4f9450841"
    }
   }
  }
 },
 "nbformat": 4,
 "nbformat_minor": 2,
 "cells": [
  {
   "cell_type": "markdown",
   "metadata": {},
   "source": [
    "## Data For Report\n",
    "The data that we have chosen to zero in on are going to be those that would directly impact the severity of a collision. The lat/long of a collision has no correlation to the severity of the accident, so, for the purposes of our analysis, we can drop it as part of the model. As a part of the preparation, we need to sift through the data in order to see what aspects are truly relevant.  \n",
    "\n",
    "We will create a correlation matrix using all of the data that we have, to see if there is a baseline of correlation from one variable to the next. The goal will be to first identify which items have high correlation to severity. Then, the next aspect is to see if there is redundant data. We don't need two independent variables that are highly correlated to both be part of the calculation for severity, since it will bias the model.  \n",
    "\n",
    "I already notice that with my data description, I am focusing too much on the cleaning aspect. Invariably, the cleaning is directly tied to the understanding of the data therein, so I will continue to conduct any and all cleaning in this file, and will draw conclusions about which data I will retain and which data I will drop. The information will be contained on the top of this document, here, and will be contained below, at the end of the cleaning process. The final step will include outputting the cleaned data as a csv for further use in a different file.  \n",
    "\n",
    "I will note my logic for dropping columns if I feel I need further justification. Given that 'SEVERITYDESC' has 100% correlation to 'SEVERITYCODE', I will drop this column, since it is a perfect, and hindsight based predictor of severity, and removes any predictability power from the model entirely."
   ]
  },
  {
   "cell_type": "code",
   "execution_count": 311,
   "metadata": {},
   "outputs": [],
   "source": [
    "import pandas as pd\n",
    "import numpy as np\n",
    "\n",
    "collision_data = pd.read_csv(\"Data-Collisions.csv\")"
   ]
  },
  {
   "cell_type": "code",
   "execution_count": 312,
   "metadata": {},
   "outputs": [
    {
     "output_type": "execute_result",
     "data": {
      "text/plain": [
       "        SEVERITYCODE              X              Y       OBJECTID  \\\n",
       "count  194673.000000  189339.000000  189339.000000  194673.000000   \n",
       "mean        1.298901    -122.330518      47.619543  108479.364930   \n",
       "std         0.457778       0.029976       0.056157   62649.722558   \n",
       "min         1.000000    -122.419091      47.495573       1.000000   \n",
       "25%         1.000000    -122.348673      47.575956   54267.000000   \n",
       "50%         1.000000    -122.330224      47.615369  106912.000000   \n",
       "75%         2.000000    -122.311937      47.663664  162272.000000   \n",
       "max         2.000000    -122.238949      47.734142  219547.000000   \n",
       "\n",
       "              INCKEY      COLDETKEY         INTKEY  SEVERITYCODE.1  \\\n",
       "count  194673.000000  194673.000000   65070.000000   194673.000000   \n",
       "mean   141091.456350  141298.811381   37558.450576        1.298901   \n",
       "std     86634.402737   86986.542110   51745.990273        0.457778   \n",
       "min      1001.000000    1001.000000   23807.000000        1.000000   \n",
       "25%     70383.000000   70383.000000   28667.000000        1.000000   \n",
       "50%    123363.000000  123363.000000   29973.000000        1.000000   \n",
       "75%    203319.000000  203459.000000   33973.000000        2.000000   \n",
       "max    331454.000000  332954.000000  757580.000000        2.000000   \n",
       "\n",
       "         PERSONCOUNT       PEDCOUNT    PEDCYLCOUNT       VEHCOUNT  \\\n",
       "count  194673.000000  194673.000000  194673.000000  194673.000000   \n",
       "mean        2.444427       0.037139       0.028391       1.920780   \n",
       "std         1.345929       0.198150       0.167413       0.631047   \n",
       "min         0.000000       0.000000       0.000000       0.000000   \n",
       "25%         2.000000       0.000000       0.000000       2.000000   \n",
       "50%         2.000000       0.000000       0.000000       2.000000   \n",
       "75%         3.000000       0.000000       0.000000       2.000000   \n",
       "max        81.000000       6.000000       2.000000      12.000000   \n",
       "\n",
       "        SDOT_COLCODE    SDOTCOLNUM     SEGLANEKEY  CROSSWALKKEY  \n",
       "count  194673.000000  1.149360e+05  194673.000000  1.946730e+05  \n",
       "mean       13.867768  7.972521e+06     269.401114  9.782452e+03  \n",
       "std         6.868755  2.553533e+06    3315.776055  7.226926e+04  \n",
       "min         0.000000  1.007024e+06       0.000000  0.000000e+00  \n",
       "25%        11.000000  6.040015e+06       0.000000  0.000000e+00  \n",
       "50%        13.000000  8.023022e+06       0.000000  0.000000e+00  \n",
       "75%        14.000000  1.015501e+07       0.000000  0.000000e+00  \n",
       "max        69.000000  1.307202e+07  525241.000000  5.239700e+06  "
      ],
      "text/html": "<div>\n<style scoped>\n    .dataframe tbody tr th:only-of-type {\n        vertical-align: middle;\n    }\n\n    .dataframe tbody tr th {\n        vertical-align: top;\n    }\n\n    .dataframe thead th {\n        text-align: right;\n    }\n</style>\n<table border=\"1\" class=\"dataframe\">\n  <thead>\n    <tr style=\"text-align: right;\">\n      <th></th>\n      <th>SEVERITYCODE</th>\n      <th>X</th>\n      <th>Y</th>\n      <th>OBJECTID</th>\n      <th>INCKEY</th>\n      <th>COLDETKEY</th>\n      <th>INTKEY</th>\n      <th>SEVERITYCODE.1</th>\n      <th>PERSONCOUNT</th>\n      <th>PEDCOUNT</th>\n      <th>PEDCYLCOUNT</th>\n      <th>VEHCOUNT</th>\n      <th>SDOT_COLCODE</th>\n      <th>SDOTCOLNUM</th>\n      <th>SEGLANEKEY</th>\n      <th>CROSSWALKKEY</th>\n    </tr>\n  </thead>\n  <tbody>\n    <tr>\n      <td>count</td>\n      <td>194673.000000</td>\n      <td>189339.000000</td>\n      <td>189339.000000</td>\n      <td>194673.000000</td>\n      <td>194673.000000</td>\n      <td>194673.000000</td>\n      <td>65070.000000</td>\n      <td>194673.000000</td>\n      <td>194673.000000</td>\n      <td>194673.000000</td>\n      <td>194673.000000</td>\n      <td>194673.000000</td>\n      <td>194673.000000</td>\n      <td>1.149360e+05</td>\n      <td>194673.000000</td>\n      <td>1.946730e+05</td>\n    </tr>\n    <tr>\n      <td>mean</td>\n      <td>1.298901</td>\n      <td>-122.330518</td>\n      <td>47.619543</td>\n      <td>108479.364930</td>\n      <td>141091.456350</td>\n      <td>141298.811381</td>\n      <td>37558.450576</td>\n      <td>1.298901</td>\n      <td>2.444427</td>\n      <td>0.037139</td>\n      <td>0.028391</td>\n      <td>1.920780</td>\n      <td>13.867768</td>\n      <td>7.972521e+06</td>\n      <td>269.401114</td>\n      <td>9.782452e+03</td>\n    </tr>\n    <tr>\n      <td>std</td>\n      <td>0.457778</td>\n      <td>0.029976</td>\n      <td>0.056157</td>\n      <td>62649.722558</td>\n      <td>86634.402737</td>\n      <td>86986.542110</td>\n      <td>51745.990273</td>\n      <td>0.457778</td>\n      <td>1.345929</td>\n      <td>0.198150</td>\n      <td>0.167413</td>\n      <td>0.631047</td>\n      <td>6.868755</td>\n      <td>2.553533e+06</td>\n      <td>3315.776055</td>\n      <td>7.226926e+04</td>\n    </tr>\n    <tr>\n      <td>min</td>\n      <td>1.000000</td>\n      <td>-122.419091</td>\n      <td>47.495573</td>\n      <td>1.000000</td>\n      <td>1001.000000</td>\n      <td>1001.000000</td>\n      <td>23807.000000</td>\n      <td>1.000000</td>\n      <td>0.000000</td>\n      <td>0.000000</td>\n      <td>0.000000</td>\n      <td>0.000000</td>\n      <td>0.000000</td>\n      <td>1.007024e+06</td>\n      <td>0.000000</td>\n      <td>0.000000e+00</td>\n    </tr>\n    <tr>\n      <td>25%</td>\n      <td>1.000000</td>\n      <td>-122.348673</td>\n      <td>47.575956</td>\n      <td>54267.000000</td>\n      <td>70383.000000</td>\n      <td>70383.000000</td>\n      <td>28667.000000</td>\n      <td>1.000000</td>\n      <td>2.000000</td>\n      <td>0.000000</td>\n      <td>0.000000</td>\n      <td>2.000000</td>\n      <td>11.000000</td>\n      <td>6.040015e+06</td>\n      <td>0.000000</td>\n      <td>0.000000e+00</td>\n    </tr>\n    <tr>\n      <td>50%</td>\n      <td>1.000000</td>\n      <td>-122.330224</td>\n      <td>47.615369</td>\n      <td>106912.000000</td>\n      <td>123363.000000</td>\n      <td>123363.000000</td>\n      <td>29973.000000</td>\n      <td>1.000000</td>\n      <td>2.000000</td>\n      <td>0.000000</td>\n      <td>0.000000</td>\n      <td>2.000000</td>\n      <td>13.000000</td>\n      <td>8.023022e+06</td>\n      <td>0.000000</td>\n      <td>0.000000e+00</td>\n    </tr>\n    <tr>\n      <td>75%</td>\n      <td>2.000000</td>\n      <td>-122.311937</td>\n      <td>47.663664</td>\n      <td>162272.000000</td>\n      <td>203319.000000</td>\n      <td>203459.000000</td>\n      <td>33973.000000</td>\n      <td>2.000000</td>\n      <td>3.000000</td>\n      <td>0.000000</td>\n      <td>0.000000</td>\n      <td>2.000000</td>\n      <td>14.000000</td>\n      <td>1.015501e+07</td>\n      <td>0.000000</td>\n      <td>0.000000e+00</td>\n    </tr>\n    <tr>\n      <td>max</td>\n      <td>2.000000</td>\n      <td>-122.238949</td>\n      <td>47.734142</td>\n      <td>219547.000000</td>\n      <td>331454.000000</td>\n      <td>332954.000000</td>\n      <td>757580.000000</td>\n      <td>2.000000</td>\n      <td>81.000000</td>\n      <td>6.000000</td>\n      <td>2.000000</td>\n      <td>12.000000</td>\n      <td>69.000000</td>\n      <td>1.307202e+07</td>\n      <td>525241.000000</td>\n      <td>5.239700e+06</td>\n    </tr>\n  </tbody>\n</table>\n</div>"
     },
     "metadata": {},
     "execution_count": 312
    }
   ],
   "source": [
    "collision_data.describe()"
   ]
  },
  {
   "cell_type": "code",
   "execution_count": 313,
   "metadata": {},
   "outputs": [],
   "source": [
    "collision_data.drop(collision_data[collision_data.EXCEPTRSNCODE == 'NEI'].index, inplace=True)\n",
    "collision_data.drop(columns=['EXCEPTRSNCODE', 'EXCEPTRSNDESC'], inplace=True)"
   ]
  },
  {
   "cell_type": "code",
   "execution_count": 314,
   "metadata": {},
   "outputs": [],
   "source": [
    "# INATTENTIONIND SET Y = 1 BLANK = 0\n",
    "# UNDERINFL SET Y, = 1, N = 0, BLANK = 0\n",
    "# PEDROWNOTGRNT SET Y = 1, BLANK = 0\n",
    "# SPEEDING SET Y = 1, BLANK = 0\n",
    "# HITPARKEDCAR SET Y = 1, N = 1\n",
    "collision_data['INATTENTIONIND'] = np.where((collision_data.INATTENTIONIND == 'Y'), 1, 0)\n",
    "collision_data['PEDROWNOTGRNT'] = np.where((collision_data.PEDROWNOTGRNT == 'Y'), 1, 0)\n",
    "collision_data['SPEEDING'] = np.where((collision_data.SPEEDING == 'Y'), 1, 0)\n",
    "collision_data['HITPARKEDCAR'] = np.where((collision_data.HITPARKEDCAR == 'Y'), 1, 0)\n",
    "collision_data['UNDERINFL'] =   np.where(((collision_data.UNDERINFL == 'Y') | (collision_data.UNDERINFL == '1')), 1, 0)"
   ]
  },
  {
   "cell_type": "code",
   "execution_count": 315,
   "metadata": {},
   "outputs": [],
   "source": [
    "#Now to convert the datetime to just the time of the day, and place them into buckets. these buckets will occur by just returning the hour of the day, and using that hour as the bucket for our incident.\n",
    "# pd.to_datetime(collision_data['INCDTTM'])\n",
    "collision_data['HOUROFDAY'] = pd.to_datetime(collision_data['INCDTTM']).dt.hour\n",
    "\n"
   ]
  },
  {
   "cell_type": "code",
   "execution_count": 316,
   "metadata": {},
   "outputs": [
    {
     "output_type": "execute_result",
     "data": {
      "text/plain": [
       "0         14\n",
       "1         18\n",
       "2         10\n",
       "3          9\n",
       "4          8\n",
       "          ..\n",
       "194668     8\n",
       "194669     9\n",
       "194670     9\n",
       "194671    16\n",
       "194672    15\n",
       "Name: HOUROFDAY, Length: 189035, dtype: int64"
      ]
     },
     "metadata": {},
     "execution_count": 316
    }
   ],
   "source": [
    "collision_data['HOUROFDAY']"
   ]
  },
  {
   "cell_type": "code",
   "execution_count": 317,
   "metadata": {},
   "outputs": [],
   "source": [
    "collision_data_relevant = collision_data.drop(columns=['X', 'Y', 'OBJECTID', 'INCKEY','INCDATE', 'COLDETKEY', 'INTKEY', 'STATUS', 'LOCATION', 'STATUS', 'REPORTNO', 'SEVERITYCODE.1', 'SDOT_COLDESC', 'SDOTCOLNUM', 'ST_COLCODE','INCDTTM','SEVERITYDESC','SEGLANEKEY']).dropna()"
   ]
  },
  {
   "cell_type": "code",
   "execution_count": 318,
   "metadata": {},
   "outputs": [
    {
     "output_type": "stream",
     "name": "stdout",
     "text": [
      "{'ADDRTYPE': {'Alley': 1, 'Block': 2, 'Intersection': 3}}\n",
      "{'COLLISIONTYPE': {'Angles': 1, 'Cycles': 2, 'Head On': 3, 'Left Turn': 4, 'Other': 5, 'Parked Car': 6, 'Pedestrian': 7, 'Rear Ended': 8, 'Right Turn': 9, 'Sideswipe': 10}}\n",
      "{'JUNCTIONTYPE': {'At Intersection (but not related to intersection)': 1, 'At Intersection (intersection related)': 2, 'Driveway Junction': 3, 'Mid-Block (but intersection related)': 4, 'Mid-Block (not related to intersection)': 5, 'Ramp Junction': 6, 'Unknown': 7}}\n",
      "{'WEATHER': {'Blowing Sand/Dirt': 1, 'Clear': 2, 'Fog/Smog/Smoke': 3, 'Other': 4, 'Overcast': 5, 'Partly Cloudy': 6, 'Raining': 7, 'Severe Crosswind': 8, 'Sleet/Hail/Freezing Rain': 9, 'Snowing': 10, 'Unknown': 11}}\n",
      "{'ROADCOND': {'Dry': 1, 'Ice': 2, 'Oil': 3, 'Other': 4, 'Sand/Mud/Dirt': 5, 'Snow/Slush': 6, 'Standing Water': 7, 'Unknown': 8, 'Wet': 9}}\n",
      "{'LIGHTCOND': {'Dark - No Street Lights': 1, 'Dark - Street Lights Off': 2, 'Dark - Street Lights On': 3, 'Dark - Unknown Lighting': 4, 'Dawn': 5, 'Daylight': 6, 'Dusk': 7, 'Other': 8, 'Unknown': 9}}\n",
      "{'ST_COLDESC': {'All Other Multi Vehicle': 1, 'All other non-collision': 2, 'Breakage of any part of the vehicle resulting in injury or in further property damage': 3, 'Domestic animal other (cat, dog, etc)': 4, 'Entering at angle': 5, 'Fire started in vehicle': 6, 'Fixed object': 7, 'From opposite direction - all others': 8, 'From opposite direction - both going straight - one stopped - sideswipe': 9, 'From opposite direction - both going straight - sideswipe': 10, 'From opposite direction - both moving - head-on': 11, 'From opposite direction - one left turn - one right turn': 12, 'From opposite direction - one left turn - one straight': 13, 'From opposite direction - one stopped - head-on': 14, 'From same direction - all others': 15, 'From same direction - both going straight - both moving - rear-end': 16, 'From same direction - both going straight - both moving - sideswipe': 17, 'From same direction - both going straight - one stopped - rear-end': 18, 'From same direction - both going straight - one stopped - sideswipe': 19, 'From same direction - one left turn - one straight': 20, 'From same direction - one right turn - one straight': 21, 'Non-domestic animal (deer, bear, elk, etc)': 22, 'Not stated': 23, 'One car entering driveway access': 24, 'One car entering parked position': 25, 'One car leaving driveway access': 26, 'One car leaving parked position': 27, 'One parked--one moving': 28, 'Other object': 29, 'Pedalcyclist All Other Involvements ONE UNIT - PEDALCYCLIST ONLY or PEDALCYCLIST STR': 30, 'Pedalcyclist Strikes Moving Vehicle': 31, 'Pedalcyclist Strikes Pedalcyclist or Pedestrian': 32, 'Person fell, jumped or was pushed from vehicle': 33, 'Railway Vehicle Strikes Pedalcyclist': 34, 'Railway Vehicle Strikes Pedestrian': 35, 'Railway Vehicle Strikes Vehicle': 36, 'Same direction -- both turning left -- both moving -- rear end': 37, 'Same direction -- both turning left -- both moving -- sideswipe': 38, 'Same direction -- both turning left -- one stopped -- rear end': 39, 'Same direction -- both turning left -- one stopped -- sideswipe': 40, 'Same direction -- both turning right -- both moving -- rear end': 41, 'Same direction -- both turning right -- both moving -- sideswipe': 42, 'Same direction -- both turning right -- one stopped -- rear end': 43, 'Same direction -- both turning right -- one stopped -- sideswipe': 44, 'Strikes or Was Struck by Object from the Load of Another Vehicle': 45, 'Strikes or Was Struck by a Part of Another Vehicle (Not from Load)': 46, 'Vehicle - Pedalcyclist': 47, 'Vehicle Hits City Road or Construction Machinery': 48, 'Vehicle Hits Other Road or Construction Machinery': 49, 'Vehicle Hits State Road or Construction Machinery': 50, 'Vehicle Strikes All Other Non-Domestic Animal': 51, 'Vehicle Strikes Deer': 52, 'Vehicle Strikes Pedalcyclist': 53, 'Vehicle Strikes Railway Vehicle': 54, 'Vehicle Struck by City Road or Construction Machinery': 55, 'Vehicle Struck by Other Road or Construction Machinery': 56, 'Vehicle backing hits pedestrian': 57, 'Vehicle going straight hits pedestrian': 58, 'Vehicle hits Pedestrian - All Other Actions': 59, 'Vehicle overturned': 60, 'Vehicle turning left hits pedestrian': 61, 'Vehicle turning right hits pedestrian': 62}}\n"
     ]
    }
   ],
   "source": [
    "#Now to convert our categorical values into numeric values, so that our tree can accurately interpret them. We will utilize a for-loop in order to rapidly do this\n",
    "labels_list = []\n",
    "for i in ['ADDRTYPE','COLLISIONTYPE','JUNCTIONTYPE','WEATHER','ROADCOND','LIGHTCOND','ST_COLDESC']:\n",
    "    labels = collision_data_relevant[i].astype('category').cat.categories.tolist()\n",
    "    replace_map_comp = {i : {k: v for k,v in zip(labels,list(range(1,len(labels)+1)))}}\n",
    "    collision_data_relevant.replace(replace_map_comp, inplace=True)\n",
    "    labels_list.append(i)\n",
    "    print(replace_map_comp)"
   ]
  },
  {
   "cell_type": "code",
   "execution_count": 319,
   "metadata": {},
   "outputs": [
    {
     "output_type": "execute_result",
     "data": {
      "text/plain": [
       "        SEVERITYCODE  ADDRTYPE  COLLISIONTYPE  PERSONCOUNT  PEDCOUNT  \\\n",
       "0                  2         3              1            2         0   \n",
       "1                  1         2             10            2         0   \n",
       "2                  1         2              6            4         0   \n",
       "3                  1         2              5            3         0   \n",
       "4                  2         3              1            2         0   \n",
       "...              ...       ...            ...          ...       ...   \n",
       "181061             2         2              3            3         0   \n",
       "181062             1         2              8            2         0   \n",
       "181063             2         3              4            3         0   \n",
       "181064             2         3              2            2         0   \n",
       "181065             1         2              8            2         0   \n",
       "\n",
       "        PEDCYLCOUNT  VEHCOUNT  JUNCTIONTYPE  SDOT_COLCODE  INATTENTIONIND  \\\n",
       "0                 0         2             2            11               0   \n",
       "1                 0         2             5            16               0   \n",
       "2                 0         3             5            14               0   \n",
       "3                 0         3             5            11               0   \n",
       "4                 0         2             2            11               0   \n",
       "...             ...       ...           ...           ...             ...   \n",
       "181061            0         2             5            11               0   \n",
       "181062            0         2             5            14               1   \n",
       "181063            0         2             2            11               0   \n",
       "181064            1         1             2            51               0   \n",
       "181065            0         2             5            14               0   \n",
       "\n",
       "        UNDERINFL  WEATHER  ROADCOND  LIGHTCOND  PEDROWNOTGRNT  SPEEDING  \\\n",
       "0               0        5         9          6              0         0   \n",
       "1               0        7         9          3              0         0   \n",
       "2               0        5         1          6              0         0   \n",
       "3               0        2         1          6              0         0   \n",
       "4               0        7         9          6              0         0   \n",
       "...           ...      ...       ...        ...            ...       ...   \n",
       "181061          0        2         1          6              0         0   \n",
       "181062          0        7         9          6              0         0   \n",
       "181063          0        2         1          6              0         0   \n",
       "181064          0        2         1          7              0         0   \n",
       "181065          0        2         9          6              0         0   \n",
       "\n",
       "        ST_COLDESC  CROSSWALKKEY  HITPARKEDCAR  HOUROFDAY  \n",
       "0                5             0             0         14  \n",
       "1               17             0             0         18  \n",
       "2               28             0             0         10  \n",
       "3               15             0             0          9  \n",
       "4                5             0             0          8  \n",
       "...            ...           ...           ...        ...  \n",
       "181061          11             0             0          8  \n",
       "181062          16             0             0          9  \n",
       "181063          13             0             0          9  \n",
       "181064          53             0             0         16  \n",
       "181065          18             0             0         15  \n",
       "\n",
       "[181066 rows x 20 columns]"
      ],
      "text/html": "<div>\n<style scoped>\n    .dataframe tbody tr th:only-of-type {\n        vertical-align: middle;\n    }\n\n    .dataframe tbody tr th {\n        vertical-align: top;\n    }\n\n    .dataframe thead th {\n        text-align: right;\n    }\n</style>\n<table border=\"1\" class=\"dataframe\">\n  <thead>\n    <tr style=\"text-align: right;\">\n      <th></th>\n      <th>SEVERITYCODE</th>\n      <th>ADDRTYPE</th>\n      <th>COLLISIONTYPE</th>\n      <th>PERSONCOUNT</th>\n      <th>PEDCOUNT</th>\n      <th>PEDCYLCOUNT</th>\n      <th>VEHCOUNT</th>\n      <th>JUNCTIONTYPE</th>\n      <th>SDOT_COLCODE</th>\n      <th>INATTENTIONIND</th>\n      <th>UNDERINFL</th>\n      <th>WEATHER</th>\n      <th>ROADCOND</th>\n      <th>LIGHTCOND</th>\n      <th>PEDROWNOTGRNT</th>\n      <th>SPEEDING</th>\n      <th>ST_COLDESC</th>\n      <th>CROSSWALKKEY</th>\n      <th>HITPARKEDCAR</th>\n      <th>HOUROFDAY</th>\n    </tr>\n  </thead>\n  <tbody>\n    <tr>\n      <td>0</td>\n      <td>2</td>\n      <td>3</td>\n      <td>1</td>\n      <td>2</td>\n      <td>0</td>\n      <td>0</td>\n      <td>2</td>\n      <td>2</td>\n      <td>11</td>\n      <td>0</td>\n      <td>0</td>\n      <td>5</td>\n      <td>9</td>\n      <td>6</td>\n      <td>0</td>\n      <td>0</td>\n      <td>5</td>\n      <td>0</td>\n      <td>0</td>\n      <td>14</td>\n    </tr>\n    <tr>\n      <td>1</td>\n      <td>1</td>\n      <td>2</td>\n      <td>10</td>\n      <td>2</td>\n      <td>0</td>\n      <td>0</td>\n      <td>2</td>\n      <td>5</td>\n      <td>16</td>\n      <td>0</td>\n      <td>0</td>\n      <td>7</td>\n      <td>9</td>\n      <td>3</td>\n      <td>0</td>\n      <td>0</td>\n      <td>17</td>\n      <td>0</td>\n      <td>0</td>\n      <td>18</td>\n    </tr>\n    <tr>\n      <td>2</td>\n      <td>1</td>\n      <td>2</td>\n      <td>6</td>\n      <td>4</td>\n      <td>0</td>\n      <td>0</td>\n      <td>3</td>\n      <td>5</td>\n      <td>14</td>\n      <td>0</td>\n      <td>0</td>\n      <td>5</td>\n      <td>1</td>\n      <td>6</td>\n      <td>0</td>\n      <td>0</td>\n      <td>28</td>\n      <td>0</td>\n      <td>0</td>\n      <td>10</td>\n    </tr>\n    <tr>\n      <td>3</td>\n      <td>1</td>\n      <td>2</td>\n      <td>5</td>\n      <td>3</td>\n      <td>0</td>\n      <td>0</td>\n      <td>3</td>\n      <td>5</td>\n      <td>11</td>\n      <td>0</td>\n      <td>0</td>\n      <td>2</td>\n      <td>1</td>\n      <td>6</td>\n      <td>0</td>\n      <td>0</td>\n      <td>15</td>\n      <td>0</td>\n      <td>0</td>\n      <td>9</td>\n    </tr>\n    <tr>\n      <td>4</td>\n      <td>2</td>\n      <td>3</td>\n      <td>1</td>\n      <td>2</td>\n      <td>0</td>\n      <td>0</td>\n      <td>2</td>\n      <td>2</td>\n      <td>11</td>\n      <td>0</td>\n      <td>0</td>\n      <td>7</td>\n      <td>9</td>\n      <td>6</td>\n      <td>0</td>\n      <td>0</td>\n      <td>5</td>\n      <td>0</td>\n      <td>0</td>\n      <td>8</td>\n    </tr>\n    <tr>\n      <td>...</td>\n      <td>...</td>\n      <td>...</td>\n      <td>...</td>\n      <td>...</td>\n      <td>...</td>\n      <td>...</td>\n      <td>...</td>\n      <td>...</td>\n      <td>...</td>\n      <td>...</td>\n      <td>...</td>\n      <td>...</td>\n      <td>...</td>\n      <td>...</td>\n      <td>...</td>\n      <td>...</td>\n      <td>...</td>\n      <td>...</td>\n      <td>...</td>\n      <td>...</td>\n    </tr>\n    <tr>\n      <td>181061</td>\n      <td>2</td>\n      <td>2</td>\n      <td>3</td>\n      <td>3</td>\n      <td>0</td>\n      <td>0</td>\n      <td>2</td>\n      <td>5</td>\n      <td>11</td>\n      <td>0</td>\n      <td>0</td>\n      <td>2</td>\n      <td>1</td>\n      <td>6</td>\n      <td>0</td>\n      <td>0</td>\n      <td>11</td>\n      <td>0</td>\n      <td>0</td>\n      <td>8</td>\n    </tr>\n    <tr>\n      <td>181062</td>\n      <td>1</td>\n      <td>2</td>\n      <td>8</td>\n      <td>2</td>\n      <td>0</td>\n      <td>0</td>\n      <td>2</td>\n      <td>5</td>\n      <td>14</td>\n      <td>1</td>\n      <td>0</td>\n      <td>7</td>\n      <td>9</td>\n      <td>6</td>\n      <td>0</td>\n      <td>0</td>\n      <td>16</td>\n      <td>0</td>\n      <td>0</td>\n      <td>9</td>\n    </tr>\n    <tr>\n      <td>181063</td>\n      <td>2</td>\n      <td>3</td>\n      <td>4</td>\n      <td>3</td>\n      <td>0</td>\n      <td>0</td>\n      <td>2</td>\n      <td>2</td>\n      <td>11</td>\n      <td>0</td>\n      <td>0</td>\n      <td>2</td>\n      <td>1</td>\n      <td>6</td>\n      <td>0</td>\n      <td>0</td>\n      <td>13</td>\n      <td>0</td>\n      <td>0</td>\n      <td>9</td>\n    </tr>\n    <tr>\n      <td>181064</td>\n      <td>2</td>\n      <td>3</td>\n      <td>2</td>\n      <td>2</td>\n      <td>0</td>\n      <td>1</td>\n      <td>1</td>\n      <td>2</td>\n      <td>51</td>\n      <td>0</td>\n      <td>0</td>\n      <td>2</td>\n      <td>1</td>\n      <td>7</td>\n      <td>0</td>\n      <td>0</td>\n      <td>53</td>\n      <td>0</td>\n      <td>0</td>\n      <td>16</td>\n    </tr>\n    <tr>\n      <td>181065</td>\n      <td>1</td>\n      <td>2</td>\n      <td>8</td>\n      <td>2</td>\n      <td>0</td>\n      <td>0</td>\n      <td>2</td>\n      <td>5</td>\n      <td>14</td>\n      <td>0</td>\n      <td>0</td>\n      <td>2</td>\n      <td>9</td>\n      <td>6</td>\n      <td>0</td>\n      <td>0</td>\n      <td>18</td>\n      <td>0</td>\n      <td>0</td>\n      <td>15</td>\n    </tr>\n  </tbody>\n</table>\n<p>181066 rows × 20 columns</p>\n</div>"
     },
     "metadata": {},
     "execution_count": 319
    }
   ],
   "source": [
    "collision_data_relevant.reset_index(inplace=True, drop=True)\n",
    "collision_data_relevant"
   ]
  },
  {
   "cell_type": "code",
   "execution_count": 320,
   "metadata": {},
   "outputs": [
    {
     "output_type": "execute_result",
     "data": {
      "text/plain": [
       "                SEVERITYCODE  ADDRTYPE  COLLISIONTYPE  PERSONCOUNT  PEDCOUNT  \\\n",
       "SEVERITYCODE        1.000000  0.191201      -0.126293     0.123792  0.244164   \n",
       "ADDRTYPE            0.191201  1.000000      -0.482232     0.059587  0.143217   \n",
       "COLLISIONTYPE      -0.126293 -0.482232       1.000000     0.015785  0.093463   \n",
       "PERSONCOUNT         0.123792  0.059587       0.015785     1.000000 -0.026629   \n",
       "PEDCOUNT            0.244164  0.143217       0.093463    -0.026629  1.000000   \n",
       "PEDCYLCOUNT         0.213477  0.082480      -0.211996    -0.042534 -0.018562   \n",
       "VEHCOUNT           -0.079848 -0.090043       0.104975     0.399715 -0.315981   \n",
       "JUNCTIONTYPE       -0.198740 -0.919140       0.482510    -0.069830 -0.130424   \n",
       "SDOT_COLCODE        0.161704 -0.068789       0.014042    -0.177460  0.283327   \n",
       "INATTENTIONIND      0.040400 -0.083471       0.122779     0.071111 -0.008240   \n",
       "UNDERINFL           0.039705 -0.047527       0.005498     0.018098  0.014795   \n",
       "WEATHER            -0.084248 -0.069945       0.018963    -0.050895 -0.004351   \n",
       "ROADCOND           -0.033417 -0.018598      -0.006616    -0.023667  0.009657   \n",
       "LIGHTCOND          -0.036926 -0.033325       0.025141    -0.027323 -0.035135   \n",
       "PEDROWNOTGRNT       0.206038  0.155258      -0.020564    -0.031731  0.496801   \n",
       "SPEEDING            0.033914 -0.065089      -0.002296    -0.007835 -0.035003   \n",
       "ST_COLDESC          0.099013 -0.168275       0.361238    -0.067916  0.564382   \n",
       "CROSSWALKKEY        0.172777  0.176120       0.033517    -0.034363  0.568736   \n",
       "HITPARKEDCAR       -0.087120 -0.114501       0.032658    -0.042441 -0.031187   \n",
       "HOUROFDAY           0.031489  0.041482      -0.005694     0.030907  0.025825   \n",
       "\n",
       "                PEDCYLCOUNT  VEHCOUNT  JUNCTIONTYPE  SDOT_COLCODE  \\\n",
       "SEVERITYCODE       0.213477 -0.079848     -0.198740      0.161704   \n",
       "ADDRTYPE           0.082480 -0.090043     -0.919140     -0.068789   \n",
       "COLLISIONTYPE     -0.211996  0.104975      0.482510      0.014042   \n",
       "PERSONCOUNT       -0.042534  0.399715     -0.069830     -0.177460   \n",
       "PEDCOUNT          -0.018562 -0.315981     -0.130424      0.283327   \n",
       "PEDCYLCOUNT        1.000000 -0.306282     -0.087600      0.418538   \n",
       "VEHCOUNT          -0.306282  1.000000      0.088328     -0.507194   \n",
       "JUNCTIONTYPE      -0.087600  0.088328      1.000000      0.080161   \n",
       "SDOT_COLCODE       0.418538 -0.507194      0.080161      1.000000   \n",
       "INATTENTIONIND     0.001044  0.051240      0.072035      0.010037   \n",
       "UNDERINFL         -0.018475 -0.011347      0.057061      0.103097   \n",
       "WEATHER           -0.050059 -0.012246      0.081328     -0.025788   \n",
       "ROADCOND          -0.047357 -0.017825      0.025302      0.003568   \n",
       "LIGHTCOND          0.019001  0.034697      0.026615     -0.104742   \n",
       "PEDROWNOTGRNT      0.325585 -0.277556     -0.153624      0.255301   \n",
       "SPEEDING          -0.022378 -0.048845      0.067151      0.146457   \n",
       "ST_COLDESC         0.357401 -0.216368      0.172640      0.281607   \n",
       "CROSSWALKKEY       0.109444 -0.236850     -0.160084      0.205167   \n",
       "HITPARKEDCAR      -0.027379  0.073987      0.137860     -0.064020   \n",
       "HOUROFDAY          0.022931  0.010129     -0.033514     -0.035238   \n",
       "\n",
       "                INATTENTIONIND  UNDERINFL   WEATHER  ROADCOND  LIGHTCOND  \\\n",
       "SEVERITYCODE          0.040400   0.039705 -0.084248 -0.033417  -0.036926   \n",
       "ADDRTYPE             -0.083471  -0.047527 -0.069945 -0.018598  -0.033325   \n",
       "COLLISIONTYPE         0.122779   0.005498  0.018963 -0.006616   0.025141   \n",
       "PERSONCOUNT           0.071111   0.018098 -0.050895 -0.023667  -0.027323   \n",
       "PEDCOUNT             -0.008240   0.014795 -0.004351  0.009657  -0.035135   \n",
       "PEDCYLCOUNT           0.001044  -0.018475 -0.050059 -0.047357   0.019001   \n",
       "VEHCOUNT              0.051240  -0.011347 -0.012246 -0.017825   0.034697   \n",
       "JUNCTIONTYPE          0.072035   0.057061  0.081328  0.025302   0.026615   \n",
       "SDOT_COLCODE          0.010037   0.103097 -0.025788  0.003568  -0.104742   \n",
       "INATTENTIONIND        1.000000  -0.030593 -0.074548 -0.050762   0.011343   \n",
       "UNDERINFL            -0.030593   1.000000 -0.033861 -0.007447  -0.218660   \n",
       "WEATHER              -0.074548  -0.033861  1.000000  0.749529   0.140448   \n",
       "ROADCOND             -0.050762  -0.007447  0.749529  1.000000  -0.017991   \n",
       "LIGHTCOND             0.011343  -0.218660  0.140448 -0.017991   1.000000   \n",
       "PEDROWNOTGRNT        -0.030380  -0.019470 -0.009420  0.002180  -0.009389   \n",
       "SPEEDING             -0.054071   0.090495  0.051841  0.095767  -0.097009   \n",
       "ST_COLDESC            0.024330  -0.006102  0.035161 -0.017557   0.044615   \n",
       "CROSSWALKKEY         -0.004677  -0.010661 -0.000250  0.011714  -0.018754   \n",
       "HITPARKEDCAR          0.019401   0.022893  0.017034 -0.003130  -0.001216   \n",
       "HOUROFDAY             0.026332  -0.030735 -0.027889 -0.023917  -0.042155   \n",
       "\n",
       "                PEDROWNOTGRNT  SPEEDING  ST_COLDESC  CROSSWALKKEY  \\\n",
       "SEVERITYCODE         0.206038  0.033914    0.099013      0.172777   \n",
       "ADDRTYPE             0.155258 -0.065089   -0.168275      0.176120   \n",
       "COLLISIONTYPE       -0.020564 -0.002296    0.361238      0.033517   \n",
       "PERSONCOUNT         -0.031731 -0.007835   -0.067916     -0.034363   \n",
       "PEDCOUNT             0.496801 -0.035003    0.564382      0.568736   \n",
       "PEDCYLCOUNT          0.325585 -0.022378    0.357401      0.109444   \n",
       "VEHCOUNT            -0.277556 -0.048845   -0.216368     -0.236850   \n",
       "JUNCTIONTYPE        -0.153624  0.067151    0.172640     -0.160084   \n",
       "SDOT_COLCODE         0.255301  0.146457    0.281607      0.205167   \n",
       "INATTENTIONIND      -0.030380 -0.054071    0.024330     -0.004677   \n",
       "UNDERINFL           -0.019470  0.090495   -0.006102     -0.010661   \n",
       "WEATHER             -0.009420  0.051841    0.035161     -0.000250   \n",
       "ROADCOND             0.002180  0.095767   -0.017557      0.011714   \n",
       "LIGHTCOND           -0.009389 -0.097009    0.044615     -0.018754   \n",
       "PEDROWNOTGRNT        1.000000 -0.030462    0.440815      0.453206   \n",
       "SPEEDING            -0.030462  1.000000   -0.083141     -0.026746   \n",
       "ST_COLDESC           0.440815 -0.083141    1.000000      0.404324   \n",
       "CROSSWALKKEY         0.453206 -0.026746    0.404324      1.000000   \n",
       "HITPARKEDCAR        -0.027785 -0.022224    0.105874     -0.023644   \n",
       "HOUROFDAY            0.013348 -0.033919    0.005503      0.029860   \n",
       "\n",
       "                HITPARKEDCAR  HOUROFDAY  \n",
       "SEVERITYCODE       -0.087120   0.031489  \n",
       "ADDRTYPE           -0.114501   0.041482  \n",
       "COLLISIONTYPE       0.032658  -0.005694  \n",
       "PERSONCOUNT        -0.042441   0.030907  \n",
       "PEDCOUNT           -0.031187   0.025825  \n",
       "PEDCYLCOUNT        -0.027379   0.022931  \n",
       "VEHCOUNT            0.073987   0.010129  \n",
       "JUNCTIONTYPE        0.137860  -0.033514  \n",
       "SDOT_COLCODE       -0.064020  -0.035238  \n",
       "INATTENTIONIND      0.019401   0.026332  \n",
       "UNDERINFL           0.022893  -0.030735  \n",
       "WEATHER             0.017034  -0.027889  \n",
       "ROADCOND           -0.003130  -0.023917  \n",
       "LIGHTCOND          -0.001216  -0.042155  \n",
       "PEDROWNOTGRNT      -0.027785   0.013348  \n",
       "SPEEDING           -0.022224  -0.033919  \n",
       "ST_COLDESC          0.105874   0.005503  \n",
       "CROSSWALKKEY       -0.023644   0.029860  \n",
       "HITPARKEDCAR        1.000000   0.031115  \n",
       "HOUROFDAY           0.031115   1.000000  "
      ],
      "text/html": "<div>\n<style scoped>\n    .dataframe tbody tr th:only-of-type {\n        vertical-align: middle;\n    }\n\n    .dataframe tbody tr th {\n        vertical-align: top;\n    }\n\n    .dataframe thead th {\n        text-align: right;\n    }\n</style>\n<table border=\"1\" class=\"dataframe\">\n  <thead>\n    <tr style=\"text-align: right;\">\n      <th></th>\n      <th>SEVERITYCODE</th>\n      <th>ADDRTYPE</th>\n      <th>COLLISIONTYPE</th>\n      <th>PERSONCOUNT</th>\n      <th>PEDCOUNT</th>\n      <th>PEDCYLCOUNT</th>\n      <th>VEHCOUNT</th>\n      <th>JUNCTIONTYPE</th>\n      <th>SDOT_COLCODE</th>\n      <th>INATTENTIONIND</th>\n      <th>UNDERINFL</th>\n      <th>WEATHER</th>\n      <th>ROADCOND</th>\n      <th>LIGHTCOND</th>\n      <th>PEDROWNOTGRNT</th>\n      <th>SPEEDING</th>\n      <th>ST_COLDESC</th>\n      <th>CROSSWALKKEY</th>\n      <th>HITPARKEDCAR</th>\n      <th>HOUROFDAY</th>\n    </tr>\n  </thead>\n  <tbody>\n    <tr>\n      <td>SEVERITYCODE</td>\n      <td>1.000000</td>\n      <td>0.191201</td>\n      <td>-0.126293</td>\n      <td>0.123792</td>\n      <td>0.244164</td>\n      <td>0.213477</td>\n      <td>-0.079848</td>\n      <td>-0.198740</td>\n      <td>0.161704</td>\n      <td>0.040400</td>\n      <td>0.039705</td>\n      <td>-0.084248</td>\n      <td>-0.033417</td>\n      <td>-0.036926</td>\n      <td>0.206038</td>\n      <td>0.033914</td>\n      <td>0.099013</td>\n      <td>0.172777</td>\n      <td>-0.087120</td>\n      <td>0.031489</td>\n    </tr>\n    <tr>\n      <td>ADDRTYPE</td>\n      <td>0.191201</td>\n      <td>1.000000</td>\n      <td>-0.482232</td>\n      <td>0.059587</td>\n      <td>0.143217</td>\n      <td>0.082480</td>\n      <td>-0.090043</td>\n      <td>-0.919140</td>\n      <td>-0.068789</td>\n      <td>-0.083471</td>\n      <td>-0.047527</td>\n      <td>-0.069945</td>\n      <td>-0.018598</td>\n      <td>-0.033325</td>\n      <td>0.155258</td>\n      <td>-0.065089</td>\n      <td>-0.168275</td>\n      <td>0.176120</td>\n      <td>-0.114501</td>\n      <td>0.041482</td>\n    </tr>\n    <tr>\n      <td>COLLISIONTYPE</td>\n      <td>-0.126293</td>\n      <td>-0.482232</td>\n      <td>1.000000</td>\n      <td>0.015785</td>\n      <td>0.093463</td>\n      <td>-0.211996</td>\n      <td>0.104975</td>\n      <td>0.482510</td>\n      <td>0.014042</td>\n      <td>0.122779</td>\n      <td>0.005498</td>\n      <td>0.018963</td>\n      <td>-0.006616</td>\n      <td>0.025141</td>\n      <td>-0.020564</td>\n      <td>-0.002296</td>\n      <td>0.361238</td>\n      <td>0.033517</td>\n      <td>0.032658</td>\n      <td>-0.005694</td>\n    </tr>\n    <tr>\n      <td>PERSONCOUNT</td>\n      <td>0.123792</td>\n      <td>0.059587</td>\n      <td>0.015785</td>\n      <td>1.000000</td>\n      <td>-0.026629</td>\n      <td>-0.042534</td>\n      <td>0.399715</td>\n      <td>-0.069830</td>\n      <td>-0.177460</td>\n      <td>0.071111</td>\n      <td>0.018098</td>\n      <td>-0.050895</td>\n      <td>-0.023667</td>\n      <td>-0.027323</td>\n      <td>-0.031731</td>\n      <td>-0.007835</td>\n      <td>-0.067916</td>\n      <td>-0.034363</td>\n      <td>-0.042441</td>\n      <td>0.030907</td>\n    </tr>\n    <tr>\n      <td>PEDCOUNT</td>\n      <td>0.244164</td>\n      <td>0.143217</td>\n      <td>0.093463</td>\n      <td>-0.026629</td>\n      <td>1.000000</td>\n      <td>-0.018562</td>\n      <td>-0.315981</td>\n      <td>-0.130424</td>\n      <td>0.283327</td>\n      <td>-0.008240</td>\n      <td>0.014795</td>\n      <td>-0.004351</td>\n      <td>0.009657</td>\n      <td>-0.035135</td>\n      <td>0.496801</td>\n      <td>-0.035003</td>\n      <td>0.564382</td>\n      <td>0.568736</td>\n      <td>-0.031187</td>\n      <td>0.025825</td>\n    </tr>\n    <tr>\n      <td>PEDCYLCOUNT</td>\n      <td>0.213477</td>\n      <td>0.082480</td>\n      <td>-0.211996</td>\n      <td>-0.042534</td>\n      <td>-0.018562</td>\n      <td>1.000000</td>\n      <td>-0.306282</td>\n      <td>-0.087600</td>\n      <td>0.418538</td>\n      <td>0.001044</td>\n      <td>-0.018475</td>\n      <td>-0.050059</td>\n      <td>-0.047357</td>\n      <td>0.019001</td>\n      <td>0.325585</td>\n      <td>-0.022378</td>\n      <td>0.357401</td>\n      <td>0.109444</td>\n      <td>-0.027379</td>\n      <td>0.022931</td>\n    </tr>\n    <tr>\n      <td>VEHCOUNT</td>\n      <td>-0.079848</td>\n      <td>-0.090043</td>\n      <td>0.104975</td>\n      <td>0.399715</td>\n      <td>-0.315981</td>\n      <td>-0.306282</td>\n      <td>1.000000</td>\n      <td>0.088328</td>\n      <td>-0.507194</td>\n      <td>0.051240</td>\n      <td>-0.011347</td>\n      <td>-0.012246</td>\n      <td>-0.017825</td>\n      <td>0.034697</td>\n      <td>-0.277556</td>\n      <td>-0.048845</td>\n      <td>-0.216368</td>\n      <td>-0.236850</td>\n      <td>0.073987</td>\n      <td>0.010129</td>\n    </tr>\n    <tr>\n      <td>JUNCTIONTYPE</td>\n      <td>-0.198740</td>\n      <td>-0.919140</td>\n      <td>0.482510</td>\n      <td>-0.069830</td>\n      <td>-0.130424</td>\n      <td>-0.087600</td>\n      <td>0.088328</td>\n      <td>1.000000</td>\n      <td>0.080161</td>\n      <td>0.072035</td>\n      <td>0.057061</td>\n      <td>0.081328</td>\n      <td>0.025302</td>\n      <td>0.026615</td>\n      <td>-0.153624</td>\n      <td>0.067151</td>\n      <td>0.172640</td>\n      <td>-0.160084</td>\n      <td>0.137860</td>\n      <td>-0.033514</td>\n    </tr>\n    <tr>\n      <td>SDOT_COLCODE</td>\n      <td>0.161704</td>\n      <td>-0.068789</td>\n      <td>0.014042</td>\n      <td>-0.177460</td>\n      <td>0.283327</td>\n      <td>0.418538</td>\n      <td>-0.507194</td>\n      <td>0.080161</td>\n      <td>1.000000</td>\n      <td>0.010037</td>\n      <td>0.103097</td>\n      <td>-0.025788</td>\n      <td>0.003568</td>\n      <td>-0.104742</td>\n      <td>0.255301</td>\n      <td>0.146457</td>\n      <td>0.281607</td>\n      <td>0.205167</td>\n      <td>-0.064020</td>\n      <td>-0.035238</td>\n    </tr>\n    <tr>\n      <td>INATTENTIONIND</td>\n      <td>0.040400</td>\n      <td>-0.083471</td>\n      <td>0.122779</td>\n      <td>0.071111</td>\n      <td>-0.008240</td>\n      <td>0.001044</td>\n      <td>0.051240</td>\n      <td>0.072035</td>\n      <td>0.010037</td>\n      <td>1.000000</td>\n      <td>-0.030593</td>\n      <td>-0.074548</td>\n      <td>-0.050762</td>\n      <td>0.011343</td>\n      <td>-0.030380</td>\n      <td>-0.054071</td>\n      <td>0.024330</td>\n      <td>-0.004677</td>\n      <td>0.019401</td>\n      <td>0.026332</td>\n    </tr>\n    <tr>\n      <td>UNDERINFL</td>\n      <td>0.039705</td>\n      <td>-0.047527</td>\n      <td>0.005498</td>\n      <td>0.018098</td>\n      <td>0.014795</td>\n      <td>-0.018475</td>\n      <td>-0.011347</td>\n      <td>0.057061</td>\n      <td>0.103097</td>\n      <td>-0.030593</td>\n      <td>1.000000</td>\n      <td>-0.033861</td>\n      <td>-0.007447</td>\n      <td>-0.218660</td>\n      <td>-0.019470</td>\n      <td>0.090495</td>\n      <td>-0.006102</td>\n      <td>-0.010661</td>\n      <td>0.022893</td>\n      <td>-0.030735</td>\n    </tr>\n    <tr>\n      <td>WEATHER</td>\n      <td>-0.084248</td>\n      <td>-0.069945</td>\n      <td>0.018963</td>\n      <td>-0.050895</td>\n      <td>-0.004351</td>\n      <td>-0.050059</td>\n      <td>-0.012246</td>\n      <td>0.081328</td>\n      <td>-0.025788</td>\n      <td>-0.074548</td>\n      <td>-0.033861</td>\n      <td>1.000000</td>\n      <td>0.749529</td>\n      <td>0.140448</td>\n      <td>-0.009420</td>\n      <td>0.051841</td>\n      <td>0.035161</td>\n      <td>-0.000250</td>\n      <td>0.017034</td>\n      <td>-0.027889</td>\n    </tr>\n    <tr>\n      <td>ROADCOND</td>\n      <td>-0.033417</td>\n      <td>-0.018598</td>\n      <td>-0.006616</td>\n      <td>-0.023667</td>\n      <td>0.009657</td>\n      <td>-0.047357</td>\n      <td>-0.017825</td>\n      <td>0.025302</td>\n      <td>0.003568</td>\n      <td>-0.050762</td>\n      <td>-0.007447</td>\n      <td>0.749529</td>\n      <td>1.000000</td>\n      <td>-0.017991</td>\n      <td>0.002180</td>\n      <td>0.095767</td>\n      <td>-0.017557</td>\n      <td>0.011714</td>\n      <td>-0.003130</td>\n      <td>-0.023917</td>\n    </tr>\n    <tr>\n      <td>LIGHTCOND</td>\n      <td>-0.036926</td>\n      <td>-0.033325</td>\n      <td>0.025141</td>\n      <td>-0.027323</td>\n      <td>-0.035135</td>\n      <td>0.019001</td>\n      <td>0.034697</td>\n      <td>0.026615</td>\n      <td>-0.104742</td>\n      <td>0.011343</td>\n      <td>-0.218660</td>\n      <td>0.140448</td>\n      <td>-0.017991</td>\n      <td>1.000000</td>\n      <td>-0.009389</td>\n      <td>-0.097009</td>\n      <td>0.044615</td>\n      <td>-0.018754</td>\n      <td>-0.001216</td>\n      <td>-0.042155</td>\n    </tr>\n    <tr>\n      <td>PEDROWNOTGRNT</td>\n      <td>0.206038</td>\n      <td>0.155258</td>\n      <td>-0.020564</td>\n      <td>-0.031731</td>\n      <td>0.496801</td>\n      <td>0.325585</td>\n      <td>-0.277556</td>\n      <td>-0.153624</td>\n      <td>0.255301</td>\n      <td>-0.030380</td>\n      <td>-0.019470</td>\n      <td>-0.009420</td>\n      <td>0.002180</td>\n      <td>-0.009389</td>\n      <td>1.000000</td>\n      <td>-0.030462</td>\n      <td>0.440815</td>\n      <td>0.453206</td>\n      <td>-0.027785</td>\n      <td>0.013348</td>\n    </tr>\n    <tr>\n      <td>SPEEDING</td>\n      <td>0.033914</td>\n      <td>-0.065089</td>\n      <td>-0.002296</td>\n      <td>-0.007835</td>\n      <td>-0.035003</td>\n      <td>-0.022378</td>\n      <td>-0.048845</td>\n      <td>0.067151</td>\n      <td>0.146457</td>\n      <td>-0.054071</td>\n      <td>0.090495</td>\n      <td>0.051841</td>\n      <td>0.095767</td>\n      <td>-0.097009</td>\n      <td>-0.030462</td>\n      <td>1.000000</td>\n      <td>-0.083141</td>\n      <td>-0.026746</td>\n      <td>-0.022224</td>\n      <td>-0.033919</td>\n    </tr>\n    <tr>\n      <td>ST_COLDESC</td>\n      <td>0.099013</td>\n      <td>-0.168275</td>\n      <td>0.361238</td>\n      <td>-0.067916</td>\n      <td>0.564382</td>\n      <td>0.357401</td>\n      <td>-0.216368</td>\n      <td>0.172640</td>\n      <td>0.281607</td>\n      <td>0.024330</td>\n      <td>-0.006102</td>\n      <td>0.035161</td>\n      <td>-0.017557</td>\n      <td>0.044615</td>\n      <td>0.440815</td>\n      <td>-0.083141</td>\n      <td>1.000000</td>\n      <td>0.404324</td>\n      <td>0.105874</td>\n      <td>0.005503</td>\n    </tr>\n    <tr>\n      <td>CROSSWALKKEY</td>\n      <td>0.172777</td>\n      <td>0.176120</td>\n      <td>0.033517</td>\n      <td>-0.034363</td>\n      <td>0.568736</td>\n      <td>0.109444</td>\n      <td>-0.236850</td>\n      <td>-0.160084</td>\n      <td>0.205167</td>\n      <td>-0.004677</td>\n      <td>-0.010661</td>\n      <td>-0.000250</td>\n      <td>0.011714</td>\n      <td>-0.018754</td>\n      <td>0.453206</td>\n      <td>-0.026746</td>\n      <td>0.404324</td>\n      <td>1.000000</td>\n      <td>-0.023644</td>\n      <td>0.029860</td>\n    </tr>\n    <tr>\n      <td>HITPARKEDCAR</td>\n      <td>-0.087120</td>\n      <td>-0.114501</td>\n      <td>0.032658</td>\n      <td>-0.042441</td>\n      <td>-0.031187</td>\n      <td>-0.027379</td>\n      <td>0.073987</td>\n      <td>0.137860</td>\n      <td>-0.064020</td>\n      <td>0.019401</td>\n      <td>0.022893</td>\n      <td>0.017034</td>\n      <td>-0.003130</td>\n      <td>-0.001216</td>\n      <td>-0.027785</td>\n      <td>-0.022224</td>\n      <td>0.105874</td>\n      <td>-0.023644</td>\n      <td>1.000000</td>\n      <td>0.031115</td>\n    </tr>\n    <tr>\n      <td>HOUROFDAY</td>\n      <td>0.031489</td>\n      <td>0.041482</td>\n      <td>-0.005694</td>\n      <td>0.030907</td>\n      <td>0.025825</td>\n      <td>0.022931</td>\n      <td>0.010129</td>\n      <td>-0.033514</td>\n      <td>-0.035238</td>\n      <td>0.026332</td>\n      <td>-0.030735</td>\n      <td>-0.027889</td>\n      <td>-0.023917</td>\n      <td>-0.042155</td>\n      <td>0.013348</td>\n      <td>-0.033919</td>\n      <td>0.005503</td>\n      <td>0.029860</td>\n      <td>0.031115</td>\n      <td>1.000000</td>\n    </tr>\n  </tbody>\n</table>\n</div>"
     },
     "metadata": {},
     "execution_count": 320
    }
   ],
   "source": [
    "collision_data_relevant.corr(method='pearson', min_periods=1)"
   ]
  },
  {
   "cell_type": "code",
   "execution_count": 321,
   "metadata": {},
   "outputs": [],
   "source": [
    "collision_data_relevant.to_csv('Cleaned-Data-Collisions.csv')"
   ]
  },
  {
   "cell_type": "markdown",
   "metadata": {},
   "source": [
    "### Data Cleaning Analysis\n",
    "#### Looking closer at the remaining variables that we will use for our model.\n",
    "We have accomiplished our stated goals for cleaning the data. As we build and test our model, we will return to this file to adjust what data we want to utilize, in order to maximize the performance of the model.  \n",
    "We eliminated columns that did not seem to have any bearing on the outcome; latitude/longitude coordinates were irrelevant, as well as the primary/secondary keys that each accident was uniquely assigned. Any component of the analysis that was unique to the incident and was not repeated with any level of meaning was dropped from the dataset. A good example of this is the date, since the date of the incident will bear very little meaning on the severity of the incident itself.  \n",
    "Next, we identified categorical variables that used strings as their values. We chose to include the string version instead of the numeric version in order to create the appropriate list of references for our dataset, thereby making the analysis component much smoother. With the string versions included, and the numeric versions dropped, we then ran a quick for loop to apply integer values to the categorical variables, and replaced the strings with the new numbers. Finally, there were some columns in the dataset that has many \"blank\" values. An assumption was made here, that will need to be validated in the analysis section. We assumed that any blank value was a \"null\" value, and that the officer/data entrist simply neglected to fill in the information. The assumption, while maybe flawed, is that \"importance\" of a variable would have incentivized a data entrist to record in the affirmative, such as in the case of a driver under the influence. If the driver was in indeed under the influence, then we can assume that the entrist would have included it in the data. If the driver was not, however, then the entrist may have simply neglected to record the information.  \n",
    "Now, with our data in numerical integer form, we created a correlation matrix. While some correlation values seem small and otherwise insignificant, we will retain them, as they still might add to our accuracy, and not detract.\n",
    "\n"
   ]
  }
 ]
}