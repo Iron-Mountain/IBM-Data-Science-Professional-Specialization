{
 "metadata": {
  "language_info": {
   "codemirror_mode": {
    "name": "ipython",
    "version": 3
   },
   "file_extension": ".py",
   "mimetype": "text/x-python",
   "name": "python",
   "nbconvert_exporter": "python",
   "pygments_lexer": "ipython3",
   "version": 3
  },
  "orig_nbformat": 2
 },
 "nbformat": 4,
 "nbformat_minor": 2,
 "cells": [
  {
   "cell_type": "markdown",
   "metadata": {},
   "source": [
    "### Defining the problem:\n",
    "We currently have a dataset with a lot of data on accidents, along with outputs of severity from those accidents. The goal of the project is to identify which variables largely contribute to the severity of an accident, and to use those variables to generate a model which can predict the severity of an accident given the set of conditions.  \n",
    "This is important for two primary sets of audiences. First, the emergency responders will certainly be interested in the outputs from our model. If we can predict severity with a significant level of condidence, then we can give first responders a leg up for certain conditions, or certain descriptions, for an accident. The magnitude of a response may hinder on the report of the accident.  \n",
    "The second audience is made up of a primary and secondary audience. The primary audience is for any company that provides a map/directions service, in that they can provide driving recommendations to drivers (our secondary audience) based on a set of criteria. While prediction of severity might not be helpful after an accident (for these drivers), making drivers aware of the risks of driving given certain conditions might be important/useful to them."
   ]
  },
  {
   "cell_type": "code",
   "execution_count": null,
   "metadata": {},
   "outputs": [],
   "source": []
  }
 ]
}